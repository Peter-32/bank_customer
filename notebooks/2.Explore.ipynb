{
 "cells": [
  {
   "cell_type": "code",
   "execution_count": 1,
   "metadata": {},
   "outputs": [
    {
     "data": {
      "text/plain": [
       "1"
      ]
     },
     "execution_count": 1,
     "metadata": {},
     "output_type": "execute_result"
    }
   ],
   "source": [
    "import math\n",
    "math.ceil(0.6)"
   ]
  },
  {
   "cell_type": "code",
   "execution_count": 1,
   "metadata": {},
   "outputs": [],
   "source": [
    "# Add this project to the path\n",
    "import os; import sys; currDir = os.path.dirname(os.path.realpath(\"__file__\"))\n",
    "rootDir = os.path.abspath(os.path.join(currDir, '..')); sys.path.insert(1, rootDir + \"/src\")\n",
    "\n",
    "# Imports and options\n",
    "import numpy as np\n",
    "import pandas as pd\n",
    "import matplotlib.pyplot as plt\n",
    "import seaborn as sns\n",
    "import warnings\n",
    "warnings.filterwarnings(\"ignore\")\n",
    "pd.set_option('display.max_columns', None)\n",
    "\n",
    "# Extract\n",
    "df = pd.read_csv(\"../data/interim/train.csv\")\n",
    "\n"
   ]
  },
  {
   "cell_type": "code",
   "execution_count": 2,
   "metadata": {},
   "outputs": [
    {
     "data": {
      "text/html": [
       "<div>\n",
       "<style scoped>\n",
       "    .dataframe tbody tr th:only-of-type {\n",
       "        vertical-align: middle;\n",
       "    }\n",
       "\n",
       "    .dataframe tbody tr th {\n",
       "        vertical-align: top;\n",
       "    }\n",
       "\n",
       "    .dataframe thead th {\n",
       "        text-align: right;\n",
       "    }\n",
       "</style>\n",
       "<table border=\"1\" class=\"dataframe\">\n",
       "  <thead>\n",
       "    <tr style=\"text-align: right;\">\n",
       "      <th></th>\n",
       "      <th>age</th>\n",
       "      <th>job</th>\n",
       "      <th>marital</th>\n",
       "      <th>education</th>\n",
       "      <th>default</th>\n",
       "      <th>housing</th>\n",
       "      <th>loan</th>\n",
       "      <th>contact</th>\n",
       "      <th>month</th>\n",
       "      <th>day_of_week</th>\n",
       "      <th>campaign</th>\n",
       "      <th>pdays</th>\n",
       "      <th>previous</th>\n",
       "      <th>poutcome</th>\n",
       "      <th>emp.var.rate</th>\n",
       "      <th>cons.price.idx</th>\n",
       "      <th>cons.conf.idx</th>\n",
       "      <th>euribor3m</th>\n",
       "      <th>nr.employed</th>\n",
       "      <th>y</th>\n",
       "    </tr>\n",
       "  </thead>\n",
       "  <tbody>\n",
       "    <tr>\n",
       "      <td>0</td>\n",
       "      <td>38</td>\n",
       "      <td>blue-collar</td>\n",
       "      <td>married</td>\n",
       "      <td>basic.9y</td>\n",
       "      <td>no</td>\n",
       "      <td>no</td>\n",
       "      <td>no</td>\n",
       "      <td>cellular</td>\n",
       "      <td>jul</td>\n",
       "      <td>fri</td>\n",
       "      <td>1</td>\n",
       "      <td>999</td>\n",
       "      <td>0</td>\n",
       "      <td>nonexistent</td>\n",
       "      <td>1.4</td>\n",
       "      <td>93.918</td>\n",
       "      <td>-42.7</td>\n",
       "      <td>4.957</td>\n",
       "      <td>5228.1</td>\n",
       "      <td>0</td>\n",
       "    </tr>\n",
       "    <tr>\n",
       "      <td>1</td>\n",
       "      <td>36</td>\n",
       "      <td>entrepreneur</td>\n",
       "      <td>married</td>\n",
       "      <td>basic.9y</td>\n",
       "      <td>no</td>\n",
       "      <td>yes</td>\n",
       "      <td>no</td>\n",
       "      <td>cellular</td>\n",
       "      <td>apr</td>\n",
       "      <td>fri</td>\n",
       "      <td>2</td>\n",
       "      <td>999</td>\n",
       "      <td>1</td>\n",
       "      <td>failure</td>\n",
       "      <td>-1.8</td>\n",
       "      <td>93.075</td>\n",
       "      <td>-47.1</td>\n",
       "      <td>1.405</td>\n",
       "      <td>5099.1</td>\n",
       "      <td>0</td>\n",
       "    </tr>\n",
       "    <tr>\n",
       "      <td>2</td>\n",
       "      <td>33</td>\n",
       "      <td>admin.</td>\n",
       "      <td>single</td>\n",
       "      <td>university.degree</td>\n",
       "      <td>no</td>\n",
       "      <td>no</td>\n",
       "      <td>no</td>\n",
       "      <td>telephone</td>\n",
       "      <td>jun</td>\n",
       "      <td>mon</td>\n",
       "      <td>2</td>\n",
       "      <td>999</td>\n",
       "      <td>0</td>\n",
       "      <td>nonexistent</td>\n",
       "      <td>1.4</td>\n",
       "      <td>94.465</td>\n",
       "      <td>-41.8</td>\n",
       "      <td>4.865</td>\n",
       "      <td>5228.1</td>\n",
       "      <td>0</td>\n",
       "    </tr>\n",
       "    <tr>\n",
       "      <td>3</td>\n",
       "      <td>53</td>\n",
       "      <td>admin.</td>\n",
       "      <td>married</td>\n",
       "      <td>university.degree</td>\n",
       "      <td>unknown</td>\n",
       "      <td>yes</td>\n",
       "      <td>no</td>\n",
       "      <td>cellular</td>\n",
       "      <td>may</td>\n",
       "      <td>wed</td>\n",
       "      <td>1</td>\n",
       "      <td>999</td>\n",
       "      <td>1</td>\n",
       "      <td>failure</td>\n",
       "      <td>-1.8</td>\n",
       "      <td>92.893</td>\n",
       "      <td>-46.2</td>\n",
       "      <td>1.334</td>\n",
       "      <td>5099.1</td>\n",
       "      <td>0</td>\n",
       "    </tr>\n",
       "    <tr>\n",
       "      <td>4</td>\n",
       "      <td>56</td>\n",
       "      <td>blue-collar</td>\n",
       "      <td>single</td>\n",
       "      <td>basic.6y</td>\n",
       "      <td>unknown</td>\n",
       "      <td>no</td>\n",
       "      <td>no</td>\n",
       "      <td>telephone</td>\n",
       "      <td>jun</td>\n",
       "      <td>mon</td>\n",
       "      <td>3</td>\n",
       "      <td>999</td>\n",
       "      <td>0</td>\n",
       "      <td>nonexistent</td>\n",
       "      <td>1.4</td>\n",
       "      <td>94.465</td>\n",
       "      <td>-41.8</td>\n",
       "      <td>4.960</td>\n",
       "      <td>5228.1</td>\n",
       "      <td>0</td>\n",
       "    </tr>\n",
       "  </tbody>\n",
       "</table>\n",
       "</div>"
      ],
      "text/plain": [
       "   age           job  marital          education  default housing loan  \\\n",
       "0   38   blue-collar  married           basic.9y       no      no   no   \n",
       "1   36  entrepreneur  married           basic.9y       no     yes   no   \n",
       "2   33        admin.   single  university.degree       no      no   no   \n",
       "3   53        admin.  married  university.degree  unknown     yes   no   \n",
       "4   56   blue-collar   single           basic.6y  unknown      no   no   \n",
       "\n",
       "     contact month day_of_week  campaign  pdays  previous     poutcome  \\\n",
       "0   cellular   jul         fri         1    999         0  nonexistent   \n",
       "1   cellular   apr         fri         2    999         1      failure   \n",
       "2  telephone   jun         mon         2    999         0  nonexistent   \n",
       "3   cellular   may         wed         1    999         1      failure   \n",
       "4  telephone   jun         mon         3    999         0  nonexistent   \n",
       "\n",
       "   emp.var.rate  cons.price.idx  cons.conf.idx  euribor3m  nr.employed  y  \n",
       "0           1.4          93.918          -42.7      4.957       5228.1  0  \n",
       "1          -1.8          93.075          -47.1      1.405       5099.1  0  \n",
       "2           1.4          94.465          -41.8      4.865       5228.1  0  \n",
       "3          -1.8          92.893          -46.2      1.334       5099.1  0  \n",
       "4           1.4          94.465          -41.8      4.960       5228.1  0  "
      ]
     },
     "execution_count": 2,
     "metadata": {},
     "output_type": "execute_result"
    }
   ],
   "source": [
    "df.head()"
   ]
  },
  {
   "cell_type": "code",
   "execution_count": 3,
   "metadata": {},
   "outputs": [
    {
     "data": {
      "text/plain": [
       "0    0.887634\n",
       "1    0.112366\n",
       "Name: y, dtype: float64"
      ]
     },
     "execution_count": 3,
     "metadata": {},
     "output_type": "execute_result"
    }
   ],
   "source": [
    "df['y'].value_counts(normalize=True)"
   ]
  },
  {
   "cell_type": "code",
   "execution_count": 4,
   "metadata": {},
   "outputs": [
    {
     "name": "stdout",
     "output_type": "stream",
     "text": [
      "<class 'pandas.core.frame.DataFrame'>\n",
      "RangeIndex: 24705 entries, 0 to 24704\n",
      "Data columns (total 20 columns):\n",
      "age               24705 non-null int64\n",
      "job               24705 non-null object\n",
      "marital           24705 non-null object\n",
      "education         24705 non-null object\n",
      "default           24705 non-null object\n",
      "housing           24705 non-null object\n",
      "loan              24705 non-null object\n",
      "contact           24705 non-null object\n",
      "month             24705 non-null object\n",
      "day_of_week       24705 non-null object\n",
      "campaign          24705 non-null int64\n",
      "pdays             24705 non-null int64\n",
      "previous          24705 non-null int64\n",
      "poutcome          24705 non-null object\n",
      "emp.var.rate      24705 non-null float64\n",
      "cons.price.idx    24705 non-null float64\n",
      "cons.conf.idx     24705 non-null float64\n",
      "euribor3m         24705 non-null float64\n",
      "nr.employed       24705 non-null float64\n",
      "y                 24705 non-null int64\n",
      "dtypes: float64(5), int64(5), object(10)\n",
      "memory usage: 3.8+ MB\n"
     ]
    }
   ],
   "source": [
    "df.info()"
   ]
  },
  {
   "cell_type": "code",
   "execution_count": 5,
   "metadata": {},
   "outputs": [
    {
     "name": "stdout",
     "output_type": "stream",
     "text": [
      "\n",
      " job \n",
      "\n",
      " admin.           6180\n",
      "blue-collar      5630\n",
      "technician       4006\n",
      "services         2359\n",
      "management       1738\n",
      "retired          1005\n",
      "entrepreneur      885\n",
      "self-employed     856\n",
      "unemployed        660\n",
      "housemaid         647\n",
      "student           537\n",
      "unknown           202\n",
      "Name: job, dtype: int64\n",
      "\n",
      " marital \n",
      "\n",
      " married     15029\n",
      "single       6918\n",
      "divorced     2704\n",
      "unknown        54\n",
      "Name: marital, dtype: int64\n",
      "\n",
      " education \n",
      "\n",
      " university.degree      7217\n",
      "high.school            5768\n",
      "basic.9y               3648\n",
      "professional.course    3117\n",
      "basic.4y               2509\n",
      "basic.6y               1392\n",
      "unknown                1044\n",
      "illiterate               10\n",
      "Name: education, dtype: int64\n",
      "\n",
      " default \n",
      "\n",
      " no         19477\n",
      "unknown     5226\n",
      "yes            2\n",
      "Name: default, dtype: int64\n",
      "\n",
      " housing \n",
      "\n",
      " yes        12945\n",
      "no         11156\n",
      "unknown      604\n",
      "Name: housing, dtype: int64\n",
      "\n",
      " loan \n",
      "\n",
      " no         20298\n",
      "yes         3803\n",
      "unknown      604\n",
      "Name: loan, dtype: int64\n",
      "\n",
      " contact \n",
      "\n",
      " cellular     15687\n",
      "telephone     9018\n",
      "Name: contact, dtype: int64\n",
      "\n",
      " month \n",
      "\n",
      " may    8272\n",
      "jul    4266\n",
      "aug    3707\n",
      "jun    3261\n",
      "nov    2430\n",
      "apr    1572\n",
      "oct     414\n",
      "mar     339\n",
      "sep     338\n",
      "dec     106\n",
      "Name: month, dtype: int64\n",
      "\n",
      " day_of_week \n",
      "\n",
      " thu    5195\n",
      "mon    5125\n",
      "wed    4877\n",
      "tue    4868\n",
      "fri    4640\n",
      "Name: day_of_week, dtype: int64\n",
      "\n",
      " poutcome \n",
      "\n",
      " nonexistent    21284\n",
      "failure         2595\n",
      "success          826\n",
      "Name: poutcome, dtype: int64\n"
     ]
    }
   ],
   "source": [
    "for column in df.select_dtypes(\"O\").columns:\n",
    "    print(\"\\n\", column, \"\\n\\n\", df[column].value_counts())"
   ]
  },
  {
   "cell_type": "code",
   "execution_count": 6,
   "metadata": {},
   "outputs": [
    {
     "data": {
      "text/html": [
       "<div>\n",
       "<style scoped>\n",
       "    .dataframe tbody tr th:only-of-type {\n",
       "        vertical-align: middle;\n",
       "    }\n",
       "\n",
       "    .dataframe tbody tr th {\n",
       "        vertical-align: top;\n",
       "    }\n",
       "\n",
       "    .dataframe thead th {\n",
       "        text-align: right;\n",
       "    }\n",
       "</style>\n",
       "<table border=\"1\" class=\"dataframe\">\n",
       "  <thead>\n",
       "    <tr style=\"text-align: right;\">\n",
       "      <th></th>\n",
       "      <th>age</th>\n",
       "      <th>campaign</th>\n",
       "      <th>pdays</th>\n",
       "      <th>previous</th>\n",
       "      <th>emp.var.rate</th>\n",
       "      <th>cons.price.idx</th>\n",
       "      <th>cons.conf.idx</th>\n",
       "      <th>euribor3m</th>\n",
       "      <th>nr.employed</th>\n",
       "      <th>y</th>\n",
       "    </tr>\n",
       "  </thead>\n",
       "  <tbody>\n",
       "    <tr>\n",
       "      <td>count</td>\n",
       "      <td>24705.000000</td>\n",
       "      <td>24705.000000</td>\n",
       "      <td>24705.000000</td>\n",
       "      <td>24705.000000</td>\n",
       "      <td>24705.000000</td>\n",
       "      <td>24705.000000</td>\n",
       "      <td>24705.000000</td>\n",
       "      <td>24705.000000</td>\n",
       "      <td>24705.000000</td>\n",
       "      <td>24705.000000</td>\n",
       "    </tr>\n",
       "    <tr>\n",
       "      <td>mean</td>\n",
       "      <td>39.943615</td>\n",
       "      <td>2.569116</td>\n",
       "      <td>962.385388</td>\n",
       "      <td>0.175106</td>\n",
       "      <td>0.079433</td>\n",
       "      <td>93.576027</td>\n",
       "      <td>-40.519733</td>\n",
       "      <td>3.617152</td>\n",
       "      <td>5166.950557</td>\n",
       "      <td>0.112366</td>\n",
       "    </tr>\n",
       "    <tr>\n",
       "      <td>std</td>\n",
       "      <td>10.345486</td>\n",
       "      <td>2.776065</td>\n",
       "      <td>187.129035</td>\n",
       "      <td>0.499210</td>\n",
       "      <td>1.572223</td>\n",
       "      <td>0.578769</td>\n",
       "      <td>4.615115</td>\n",
       "      <td>1.735820</td>\n",
       "      <td>72.248103</td>\n",
       "      <td>0.315823</td>\n",
       "    </tr>\n",
       "    <tr>\n",
       "      <td>min</td>\n",
       "      <td>17.000000</td>\n",
       "      <td>1.000000</td>\n",
       "      <td>0.000000</td>\n",
       "      <td>0.000000</td>\n",
       "      <td>-3.400000</td>\n",
       "      <td>92.201000</td>\n",
       "      <td>-50.800000</td>\n",
       "      <td>0.634000</td>\n",
       "      <td>4963.600000</td>\n",
       "      <td>0.000000</td>\n",
       "    </tr>\n",
       "    <tr>\n",
       "      <td>25%</td>\n",
       "      <td>32.000000</td>\n",
       "      <td>1.000000</td>\n",
       "      <td>999.000000</td>\n",
       "      <td>0.000000</td>\n",
       "      <td>-1.800000</td>\n",
       "      <td>93.075000</td>\n",
       "      <td>-42.700000</td>\n",
       "      <td>1.344000</td>\n",
       "      <td>5099.100000</td>\n",
       "      <td>0.000000</td>\n",
       "    </tr>\n",
       "    <tr>\n",
       "      <td>50%</td>\n",
       "      <td>38.000000</td>\n",
       "      <td>2.000000</td>\n",
       "      <td>999.000000</td>\n",
       "      <td>0.000000</td>\n",
       "      <td>1.100000</td>\n",
       "      <td>93.749000</td>\n",
       "      <td>-41.800000</td>\n",
       "      <td>4.857000</td>\n",
       "      <td>5191.000000</td>\n",
       "      <td>0.000000</td>\n",
       "    </tr>\n",
       "    <tr>\n",
       "      <td>75%</td>\n",
       "      <td>47.000000</td>\n",
       "      <td>3.000000</td>\n",
       "      <td>999.000000</td>\n",
       "      <td>0.000000</td>\n",
       "      <td>1.400000</td>\n",
       "      <td>93.994000</td>\n",
       "      <td>-36.400000</td>\n",
       "      <td>4.961000</td>\n",
       "      <td>5228.100000</td>\n",
       "      <td>0.000000</td>\n",
       "    </tr>\n",
       "    <tr>\n",
       "      <td>max</td>\n",
       "      <td>98.000000</td>\n",
       "      <td>43.000000</td>\n",
       "      <td>999.000000</td>\n",
       "      <td>7.000000</td>\n",
       "      <td>1.400000</td>\n",
       "      <td>94.767000</td>\n",
       "      <td>-26.900000</td>\n",
       "      <td>5.045000</td>\n",
       "      <td>5228.100000</td>\n",
       "      <td>1.000000</td>\n",
       "    </tr>\n",
       "  </tbody>\n",
       "</table>\n",
       "</div>"
      ],
      "text/plain": [
       "                age      campaign         pdays      previous  emp.var.rate  \\\n",
       "count  24705.000000  24705.000000  24705.000000  24705.000000  24705.000000   \n",
       "mean      39.943615      2.569116    962.385388      0.175106      0.079433   \n",
       "std       10.345486      2.776065    187.129035      0.499210      1.572223   \n",
       "min       17.000000      1.000000      0.000000      0.000000     -3.400000   \n",
       "25%       32.000000      1.000000    999.000000      0.000000     -1.800000   \n",
       "50%       38.000000      2.000000    999.000000      0.000000      1.100000   \n",
       "75%       47.000000      3.000000    999.000000      0.000000      1.400000   \n",
       "max       98.000000     43.000000    999.000000      7.000000      1.400000   \n",
       "\n",
       "       cons.price.idx  cons.conf.idx     euribor3m   nr.employed             y  \n",
       "count    24705.000000   24705.000000  24705.000000  24705.000000  24705.000000  \n",
       "mean        93.576027     -40.519733      3.617152   5166.950557      0.112366  \n",
       "std          0.578769       4.615115      1.735820     72.248103      0.315823  \n",
       "min         92.201000     -50.800000      0.634000   4963.600000      0.000000  \n",
       "25%         93.075000     -42.700000      1.344000   5099.100000      0.000000  \n",
       "50%         93.749000     -41.800000      4.857000   5191.000000      0.000000  \n",
       "75%         93.994000     -36.400000      4.961000   5228.100000      0.000000  \n",
       "max         94.767000     -26.900000      5.045000   5228.100000      1.000000  "
      ]
     },
     "execution_count": 6,
     "metadata": {},
     "output_type": "execute_result"
    }
   ],
   "source": [
    "df.describe()"
   ]
  },
  {
   "cell_type": "markdown",
   "metadata": {},
   "source": [
    "Duplicates are fine because clients can be messaged more than once."
   ]
  },
  {
   "cell_type": "code",
   "execution_count": 7,
   "metadata": {},
   "outputs": [
    {
     "data": {
      "text/plain": [
       "array([<matplotlib.axes._subplots.AxesSubplot object at 0x1080f21d0>,\n",
       "       <matplotlib.axes._subplots.AxesSubplot object at 0x108259588>],\n",
       "      dtype=object)"
      ]
     },
     "execution_count": 7,
     "metadata": {},
     "output_type": "execute_result"
    },
    {
     "data": {
      "image/png": "[encoded data removed]",
      "text/plain": [
       "<Figure size 1152x216 with 2 Axes>"
      ]
     },
     "metadata": {
      "needs_background": "light"
     },
     "output_type": "display_data"
    }
   ],
   "source": [
    "df.hist(column=\"age\", by=\"y\", figsize=(16,3), bins=50)"
   ]
  },
  {
   "cell_type": "markdown",
   "metadata": {},
   "source": [
    "Clients older than 60 are much more likely to make the investment"
   ]
  },
  {
   "cell_type": "code",
   "execution_count": 8,
   "metadata": {},
   "outputs": [],
   "source": [
    "# sns.pairplot(df, hue=\"y\", diag_kind=\"hist\")\n"
   ]
  },
  {
   "cell_type": "markdown",
   "metadata": {},
   "source": [
    "Most separation:\n",
    "- old age (60+): a yes more often than average\n",
    "- 15+ contacts this campaign: very often a no\n",
    "- pdays low: a large proportion of yes\n",
    "- previous 2.0: possibly a large proportion of yes\n",
    "- emp.var.rate < -1: more likely a yes \n",
    "- emp.var.rate > -1: more likely a no\n",
    "- cons.price.index: possibly more yes for low values\n",
    "- cons.conf.index: might be positively correlated with cons.price.index\n",
    "- euibor3m low value: more likely a yes \n",
    "- euibor3m high value: more likely a no\n",
    "- nr.employed low value: more likely a yes \n",
    "- nr.employed high value: more likely a no\n"
   ]
  },
  {
   "cell_type": "code",
   "execution_count": 9,
   "metadata": {},
   "outputs": [
    {
     "data": {
      "text/plain": [
       "y                 1.000000\n",
       "previous          0.225143\n",
       "cons.conf.idx     0.050606\n",
       "age               0.025181\n",
       "housing           0.003120\n",
       "loan             -0.009777\n",
       "campaign         -0.064770\n",
       "default          -0.096484\n",
       "cons.price.idx   -0.137393\n",
       "emp.var.rate     -0.295192\n",
       "euribor3m        -0.304754\n",
       "pdays            -0.322170\n",
       "nr.employed      -0.350461\n",
       "Name: y, dtype: float64"
      ]
     },
     "execution_count": 9,
     "metadata": {},
     "output_type": "execute_result"
    }
   ],
   "source": [
    "temp = df.copy()\n",
    "for col in ['default', 'housing', 'loan']:\n",
    "    temp[col] = temp[col].apply(lambda x: 1 if x == \"yes\" else 0 if x == \"unknown\" else -1 if x ==\"no\" else -2)\n",
    "corr_matrix = temp.corr()\n",
    "corr_matrix['y'].sort_values(ascending=False)"
   ]
  },
  {
   "cell_type": "markdown",
   "metadata": {},
   "source": [
    "Comparing correlation to observations above:\n",
    "- previous: correlation sign shows as expected, higher values are positively correlated \n",
    "- cons.conf.idx: opposite correlation was expected, perhaps there is a nonlinear relationship\n",
    "- age: correlation sign shows as expected, small value.  Perhaps the greatest separation is among age 60+ which is a minority of the data.\n",
    "- campaign: nothing of interest before, has one of the lowest absolute value correlations\n",
    "- cons.price.idx, emp.var.rate, euribor3m, nr.employed have expected correlation sign, should see if some of these are correlated with each other and which can be removed\n",
    "- pdays has the expected correlation sign\n",
    "- default has a positive correlation"
   ]
  },
  {
   "cell_type": "code",
   "execution_count": 10,
   "metadata": {},
   "outputs": [
    {
     "data": {
      "text/plain": [
       "<matplotlib.axes._subplots.AxesSubplot at 0x122996860>"
      ]
     },
     "execution_count": 10,
     "metadata": {},
     "output_type": "execute_result"
    },
    {
     "data": {
      "image/png": "[encoded data removed]",
      "text/plain": [
       "<Figure size 432x288 with 2 Axes>"
      ]
     },
     "metadata": {
      "needs_background": "light"
     },
     "output_type": "display_data"
    }
   ],
   "source": [
    "cor_mat = temp.corr().apply(lambda x: abs(x))\n",
    "sns.heatmap(cor_mat, vmax=.8, square=True)\n"
   ]
  },
  {
   "cell_type": "markdown",
   "metadata": {},
   "source": [
    "emp.var.rate, euribor3m, and nr.employed are highly correlated.  I prefer to drop all but the one highest correlated with y, which is nr.employed"
   ]
  },
  {
   "cell_type": "code",
   "execution_count": 11,
   "metadata": {},
   "outputs": [
    {
     "data": {
      "text/plain": [
       "<matplotlib.axes._subplots.AxesSubplot at 0x128777a20>"
      ]
     },
     "execution_count": 11,
     "metadata": {},
     "output_type": "execute_result"
    },
    {
     "data": {
      "image/png": "[encoded data removed]",
      "text/plain": [
       "<Figure size 432x288 with 2 Axes>"
      ]
     },
     "metadata": {
      "needs_background": "light"
     },
     "output_type": "display_data"
    }
   ],
   "source": [
    "# Dropping columns (Added to pipeline as well)\n",
    "df.drop([\"euribor3m\", \"emp.var.rate\"], axis=1, inplace=True)\n",
    "temp.drop([\"euribor3m\", \"emp.var.rate\"], axis=1, inplace=True)\n",
    "\n",
    "# Correlation\n",
    "cor_mat = temp.corr().apply(lambda x: abs(x))\n",
    "sns.heatmap(cor_mat, vmax=.8, square=True)\n"
   ]
  },
  {
   "cell_type": "markdown",
   "metadata": {},
   "source": [
    "That's much better, no attributes are very highly correlated with each other.\n",
    "\n",
    "Now I'll check some categorical variables that could easily be numeric variables."
   ]
  },
  {
   "cell_type": "code",
   "execution_count": 12,
   "metadata": {},
   "outputs": [
    {
     "data": {
      "text/html": [
       "<div>\n",
       "<style scoped>\n",
       "    .dataframe tbody tr th:only-of-type {\n",
       "        vertical-align: middle;\n",
       "    }\n",
       "\n",
       "    .dataframe tbody tr th {\n",
       "        vertical-align: top;\n",
       "    }\n",
       "\n",
       "    .dataframe thead th {\n",
       "        text-align: right;\n",
       "    }\n",
       "</style>\n",
       "<table border=\"1\" class=\"dataframe\">\n",
       "  <thead>\n",
       "    <tr style=\"text-align: right;\">\n",
       "      <th></th>\n",
       "      <th>age</th>\n",
       "      <th>job</th>\n",
       "      <th>marital</th>\n",
       "      <th>education</th>\n",
       "      <th>default</th>\n",
       "      <th>housing</th>\n",
       "      <th>loan</th>\n",
       "      <th>contact</th>\n",
       "      <th>month</th>\n",
       "      <th>day_of_week</th>\n",
       "      <th>campaign</th>\n",
       "      <th>pdays</th>\n",
       "      <th>previous</th>\n",
       "      <th>poutcome</th>\n",
       "      <th>cons.price.idx</th>\n",
       "      <th>cons.conf.idx</th>\n",
       "      <th>nr.employed</th>\n",
       "      <th>y</th>\n",
       "    </tr>\n",
       "  </thead>\n",
       "  <tbody>\n",
       "    <tr>\n",
       "      <td>0</td>\n",
       "      <td>38</td>\n",
       "      <td>blue-collar</td>\n",
       "      <td>married</td>\n",
       "      <td>basic.9y</td>\n",
       "      <td>no</td>\n",
       "      <td>no</td>\n",
       "      <td>no</td>\n",
       "      <td>cellular</td>\n",
       "      <td>jul</td>\n",
       "      <td>fri</td>\n",
       "      <td>1</td>\n",
       "      <td>999</td>\n",
       "      <td>0</td>\n",
       "      <td>nonexistent</td>\n",
       "      <td>93.918</td>\n",
       "      <td>-42.7</td>\n",
       "      <td>5228.1</td>\n",
       "      <td>0</td>\n",
       "    </tr>\n",
       "    <tr>\n",
       "      <td>1</td>\n",
       "      <td>36</td>\n",
       "      <td>entrepreneur</td>\n",
       "      <td>married</td>\n",
       "      <td>basic.9y</td>\n",
       "      <td>no</td>\n",
       "      <td>yes</td>\n",
       "      <td>no</td>\n",
       "      <td>cellular</td>\n",
       "      <td>apr</td>\n",
       "      <td>fri</td>\n",
       "      <td>2</td>\n",
       "      <td>999</td>\n",
       "      <td>1</td>\n",
       "      <td>failure</td>\n",
       "      <td>93.075</td>\n",
       "      <td>-47.1</td>\n",
       "      <td>5099.1</td>\n",
       "      <td>0</td>\n",
       "    </tr>\n",
       "    <tr>\n",
       "      <td>2</td>\n",
       "      <td>33</td>\n",
       "      <td>admin.</td>\n",
       "      <td>single</td>\n",
       "      <td>university.degree</td>\n",
       "      <td>no</td>\n",
       "      <td>no</td>\n",
       "      <td>no</td>\n",
       "      <td>telephone</td>\n",
       "      <td>jun</td>\n",
       "      <td>mon</td>\n",
       "      <td>2</td>\n",
       "      <td>999</td>\n",
       "      <td>0</td>\n",
       "      <td>nonexistent</td>\n",
       "      <td>94.465</td>\n",
       "      <td>-41.8</td>\n",
       "      <td>5228.1</td>\n",
       "      <td>0</td>\n",
       "    </tr>\n",
       "    <tr>\n",
       "      <td>3</td>\n",
       "      <td>53</td>\n",
       "      <td>admin.</td>\n",
       "      <td>married</td>\n",
       "      <td>university.degree</td>\n",
       "      <td>unknown</td>\n",
       "      <td>yes</td>\n",
       "      <td>no</td>\n",
       "      <td>cellular</td>\n",
       "      <td>may</td>\n",
       "      <td>wed</td>\n",
       "      <td>1</td>\n",
       "      <td>999</td>\n",
       "      <td>1</td>\n",
       "      <td>failure</td>\n",
       "      <td>92.893</td>\n",
       "      <td>-46.2</td>\n",
       "      <td>5099.1</td>\n",
       "      <td>0</td>\n",
       "    </tr>\n",
       "    <tr>\n",
       "      <td>4</td>\n",
       "      <td>56</td>\n",
       "      <td>blue-collar</td>\n",
       "      <td>single</td>\n",
       "      <td>basic.6y</td>\n",
       "      <td>unknown</td>\n",
       "      <td>no</td>\n",
       "      <td>no</td>\n",
       "      <td>telephone</td>\n",
       "      <td>jun</td>\n",
       "      <td>mon</td>\n",
       "      <td>3</td>\n",
       "      <td>999</td>\n",
       "      <td>0</td>\n",
       "      <td>nonexistent</td>\n",
       "      <td>94.465</td>\n",
       "      <td>-41.8</td>\n",
       "      <td>5228.1</td>\n",
       "      <td>0</td>\n",
       "    </tr>\n",
       "  </tbody>\n",
       "</table>\n",
       "</div>"
      ],
      "text/plain": [
       "   age           job  marital          education  default housing loan  \\\n",
       "0   38   blue-collar  married           basic.9y       no      no   no   \n",
       "1   36  entrepreneur  married           basic.9y       no     yes   no   \n",
       "2   33        admin.   single  university.degree       no      no   no   \n",
       "3   53        admin.  married  university.degree  unknown     yes   no   \n",
       "4   56   blue-collar   single           basic.6y  unknown      no   no   \n",
       "\n",
       "     contact month day_of_week  campaign  pdays  previous     poutcome  \\\n",
       "0   cellular   jul         fri         1    999         0  nonexistent   \n",
       "1   cellular   apr         fri         2    999         1      failure   \n",
       "2  telephone   jun         mon         2    999         0  nonexistent   \n",
       "3   cellular   may         wed         1    999         1      failure   \n",
       "4  telephone   jun         mon         3    999         0  nonexistent   \n",
       "\n",
       "   cons.price.idx  cons.conf.idx  nr.employed  y  \n",
       "0          93.918          -42.7       5228.1  0  \n",
       "1          93.075          -47.1       5099.1  0  \n",
       "2          94.465          -41.8       5228.1  0  \n",
       "3          92.893          -46.2       5099.1  0  \n",
       "4          94.465          -41.8       5228.1  0  "
      ]
     },
     "execution_count": 12,
     "metadata": {},
     "output_type": "execute_result"
    }
   ],
   "source": [
    "df.head()"
   ]
  },
  {
   "cell_type": "code",
   "execution_count": 13,
   "metadata": {},
   "outputs": [],
   "source": [
    "def get_expected_bank_balance_by_age(age):\n",
    "    balance = 0\n",
    "    if age < 35:\n",
    "        balance = 4000\n",
    "    elif age <= 44:\n",
    "        balance = 6000\n",
    "    elif age <= 54:\n",
    "        balance = 9000\n",
    "    elif age <= 64:\n",
    "        balance = 10000\n",
    "    elif age <= 74:\n",
    "        balance = 16000\n",
    "    else:\n",
    "        balance = 12000\n",
    "    return balance\n",
    "\n",
    "def get_education_level(education):\n",
    "    education_level = 0\n",
    "    if education == \"illiterate\":\n",
    "        education_level = 0\n",
    "    elif education == \"basic.4y\":\n",
    "        education_level = 1\n",
    "    elif education == \"basic.6y\":\n",
    "        education_level = 2   \n",
    "    elif education == \"basic.9y\":\n",
    "        education_level = 3\n",
    "    elif education == \"high.school\":\n",
    "        education_level = 4\n",
    "    elif education == \"professional.course\":\n",
    "        education_level = 6      \n",
    "    elif education == \"university.degree\":\n",
    "        education_level = 8\n",
    "    else:\n",
    "        education_level = 4\n",
    "    return education_level\n",
    "\n",
    "def get_expected_income(job, age):\n",
    "    beginner_income = 0\n",
    "    expert_income = 0\n",
    "    income = 0\n",
    "    if job == 'admin.':\n",
    "        beginner_income = 32500\n",
    "        expert_income = 64000\n",
    "    elif job == 'blue-collar':\n",
    "        beginner_income = 22000\n",
    "        expert_income = 50000\n",
    "    elif job == 'technician':\n",
    "        beginner_income = 25000\n",
    "        expert_income = 55000   \n",
    "    elif job == 'services':\n",
    "        beginner_income = 34000\n",
    "        expert_income = 55000   \n",
    "        \n",
    "    elif job == 'management':\n",
    "        beginner_income = 45000\n",
    "        expert_income = 122000   \n",
    "    elif job == 'retired':\n",
    "        beginner_income = 10000\n",
    "        expert_income = 10000 \n",
    "    elif job == 'entrepreneur':\n",
    "        beginner_income = 25000\n",
    "        expert_income = 50000 \n",
    "    elif job == 'self-employed':\n",
    "        beginner_income = 25000\n",
    "        expert_income = 50000   \n",
    "    elif job == 'housemaid':\n",
    "        beginner_income = 19000\n",
    "        expert_income = 30000         \n",
    "    elif job == 'unemployed':\n",
    "        beginner_income = 0\n",
    "        expert_income = 0           \n",
    "    elif job == 'student':\n",
    "        beginner_income = 0\n",
    "        expert_income = 0           \n",
    "    elif job == 'unknown':\n",
    "        beginner_income = 25000\n",
    "        expert_income = 35000\n",
    "    \n",
    "    income_range = expert_income - beginner_income\n",
    "    \n",
    "    if age <= 19:\n",
    "        income = beginner_income\n",
    "    elif age <= 24:\n",
    "        income = beginner_income + 0.22 * income_range\n",
    "    elif age <= 34:\n",
    "        income = beginner_income + 0.65 * income_range\n",
    "    elif age <= 44:\n",
    "        income = beginner_income + 0.97 * income_range\n",
    "    elif age <= 54:\n",
    "        income = beginner_income + 1.00 * income_range\n",
    "    elif age <= 64:\n",
    "        income = beginner_income + 0.99 * income_range\n",
    "    else:\n",
    "        income = beginner_income + 0.88 * income_range        \n",
    "    return income\n",
    "        \n",
    "\n",
    "def get_expected_bank_balance_by_income(income):\n",
    "    balance = 0\n",
    "    if income < 25000:\n",
    "        balance = 2500\n",
    "    elif income < 45000:\n",
    "        balance = 3500\n",
    "    elif income < 70000:\n",
    "        balance = 5000\n",
    "    elif income < 115000:\n",
    "        balance = 8000\n",
    "    else:\n",
    "        balance = 12000\n",
    "    return balance\n",
    "       "
   ]
  },
  {
   "cell_type": "code",
   "execution_count": 14,
   "metadata": {},
   "outputs": [],
   "source": [
    "df['education_level'] = df['education'].apply(get_education_level)\n",
    "df['expected_income'] = df[['job', 'age']].apply(lambda x: get_expected_income(*x), axis=1)\n",
    "df['expected_bank_balance_by_income'] = df['expected_income'].apply(get_expected_bank_balance_by_income)\n",
    "df['expected_bank_balance_by_age'] = df['age'].apply(get_expected_bank_balance_by_age)\n",
    "df['age_gte_61'] = df['age'].apply(lambda x: 1 if x >= 61 else 0)\n",
    "df['age_lte_23'] = df['age'].apply(lambda x: 1 if x <= 23 else 0)\n",
    "df.drop(['expected_bank_balance_by_income'], axis=1, inplace=True)\n"
   ]
  },
  {
   "cell_type": "code",
   "execution_count": 15,
   "metadata": {},
   "outputs": [
    {
     "data": {
      "text/plain": [
       "y                               1.000000\n",
       "nr.employed                     0.350461\n",
       "pdays                           0.322170\n",
       "previous                        0.225143\n",
       "age_gte_61                      0.159551\n",
       "cons.price.idx                  0.137393\n",
       "age_lte_23                      0.074609\n",
       "campaign                        0.064770\n",
       "expected_income                 0.063634\n",
       "education_level                 0.051759\n",
       "cons.conf.idx                   0.050606\n",
       "expected_bank_balance_by_age    0.032402\n",
       "age                             0.025181\n",
       "Name: y, dtype: float64"
      ]
     },
     "execution_count": 15,
     "metadata": {},
     "output_type": "execute_result"
    },
    {
     "data": {
      "image/png": "[encoded data removed]",
      "text/plain": [
       "<Figure size 432x288 with 2 Axes>"
      ]
     },
     "metadata": {
      "needs_background": "light"
     },
     "output_type": "display_data"
    }
   ],
   "source": [
    "# Correlation\n",
    "cor_mat = df.corr().apply(lambda x: abs(x))\n",
    "sns.heatmap(cor_mat, vmax=.8, square=True)\n",
    "cor_mat['y'].sort_values(ascending=False)"
   ]
  },
  {
   "cell_type": "markdown",
   "metadata": {},
   "source": [
    "Dummies for all category variables:"
   ]
  },
  {
   "cell_type": "code",
   "execution_count": 16,
   "metadata": {},
   "outputs": [],
   "source": [
    "df = pd.concat([df.select_dtypes(exclude=\"O\"), \\\n",
    "           pd.get_dummies(df.select_dtypes(include=\"O\"), drop_first=True)], axis=1)\n"
   ]
  },
  {
   "cell_type": "code",
   "execution_count": 17,
   "metadata": {},
   "outputs": [
    {
     "data": {
      "text/plain": [
       "<matplotlib.axes._subplots.AxesSubplot at 0x12ba6d358>"
      ]
     },
     "execution_count": 17,
     "metadata": {},
     "output_type": "execute_result"
    },
    {
     "data": {
      "image/png": "[encoded data removed]",
      "text/plain": [
       "<Figure size 1440x1152 with 2 Axes>"
      ]
     },
     "metadata": {
      "needs_background": "light"
     },
     "output_type": "display_data"
    }
   ],
   "source": [
    "# Correlation\n",
    "cor_mat = df.corr().apply(lambda x: abs(x))\n",
    "plt.figure(figsize=(20, 16))\n",
    "sns.heatmap(cor_mat, vmax=.8, square=True)\n"
   ]
  },
  {
   "cell_type": "code",
   "execution_count": 18,
   "metadata": {},
   "outputs": [],
   "source": [
    "def get_loan_unknown_and_housing_unknown(loan_unknown, housing_unknown):\n",
    "    return 1 if loan_unknown == 1 and housing_unknown == 1 else 0\n",
    "\n",
    "df[\"loan_unknown_and_housing_unknown\"] = \\\n",
    "    df[[\"loan_unknown\", \"housing_unknown\"]].\\\n",
    "        apply(lambda x: get_loan_unknown_and_housing_unknown(*x), axis=1)\n",
    "df.drop([\"education_university.degree\", \"loan_unknown\", \"housing_unknown\"], axis=1, inplace=True)"
   ]
  },
  {
   "cell_type": "code",
   "execution_count": 20,
   "metadata": {},
   "outputs": [
    {
     "data": {
      "text/plain": [
       "y                                   1.000000\n",
       "nr.employed                         0.350461\n",
       "pdays                               0.322170\n",
       "poutcome_success                    0.316688\n",
       "previous                            0.225143\n",
       "poutcome_nonexistent                0.188728\n",
       "age_gte_61                          0.159551\n",
       "month_mar                           0.153039\n",
       "contact_telephone                   0.152362\n",
       "cons.price.idx                      0.137393\n",
       "month_oct                           0.132280\n",
       "month_sep                           0.116976\n",
       "month_may                           0.106865\n",
       "default_unknown                     0.096417\n",
       "job_student                         0.095505\n",
       "job_retired                         0.086986\n",
       "month_dec                           0.082532\n",
       "age_lte_23                          0.074609\n",
       "job_blue-collar                     0.073521\n",
       "campaign                            0.064770\n",
       "expected_income                     0.063634\n",
       "marital_single                      0.056990\n",
       "education_level                     0.051759\n",
       "cons.conf.idx                       0.050606\n",
       "education_basic.9y                  0.043321\n",
       "marital_married                     0.042733\n",
       "expected_bank_balance_by_age        0.032402\n",
       "job_services                        0.031868\n",
       "month_jul                           0.026230\n",
       "age                                 0.025181\n",
       "education_unknown                   0.024649\n",
       "education_basic.6y                  0.024131\n",
       "day_of_week_mon                     0.023667\n",
       "day_of_week_thu                     0.023041\n",
       "job_entrepreneur                    0.021685\n",
       "job_unemployed                      0.018948\n",
       "month_nov                           0.015945\n",
       "loan_yes                            0.010060\n",
       "month_jun                           0.010006\n",
       "job_unknown                         0.009533\n",
       "day_of_week_wed                     0.008047\n",
       "job_self-employed                   0.007839\n",
       "job_housemaid                       0.006983\n",
       "day_of_week_tue                     0.005479\n",
       "marital_unknown                     0.005303\n",
       "education_high.school               0.005189\n",
       "month_aug                           0.004501\n",
       "default_yes                         0.003201\n",
       "job_technician                      0.003177\n",
       "housing_yes                         0.002932\n",
       "education_professional.course       0.001836\n",
       "job_management                      0.001149\n",
       "loan_unknown_and_housing_unknown    0.000939\n",
       "education_illiterate                0.000788\n",
       "Name: y, dtype: float64"
      ]
     },
     "execution_count": 20,
     "metadata": {},
     "output_type": "execute_result"
    }
   ],
   "source": [
    "cor_mat = df.corr().apply(lambda x: abs(x))\n",
    "cor_mat['y'].sort_values(ascending=False)"
   ]
  },
  {
   "cell_type": "markdown",
   "metadata": {},
   "source": [
    "## Feature Importance"
   ]
  },
  {
   "cell_type": "code",
   "execution_count": 23,
   "metadata": {},
   "outputs": [
    {
     "ename": "NameError",
     "evalue": "name 'train' is not defined",
     "output_type": "error",
     "traceback": [
      "\u001b[0;31m---------------------------------------------------------------------------\u001b[0m",
      "\u001b[0;31mNameError\u001b[0m                                 Traceback (most recent call last)",
      "\u001b[0;32m<ipython-input-23-76523088249c>\u001b[0m in \u001b[0;36m<module>\u001b[0;34m\u001b[0m\n\u001b[0;32m----> 1\u001b[0;31m \u001b[0mnp\u001b[0m\u001b[0;34m.\u001b[0m\u001b[0misnan\u001b[0m\u001b[0;34m(\u001b[0m\u001b[0mtrain\u001b[0m\u001b[0;34m)\u001b[0m\u001b[0;34m.\u001b[0m\u001b[0many\u001b[0m\u001b[0;34m(\u001b[0m\u001b[0;34m)\u001b[0m\u001b[0;34m.\u001b[0m\u001b[0many\u001b[0m\u001b[0;34m(\u001b[0m\u001b[0;34m)\u001b[0m\u001b[0;34m\u001b[0m\u001b[0m\n\u001b[0m",
      "\u001b[0;31mNameError\u001b[0m: name 'train' is not defined"
     ]
    }
   ],
   "source": [
    "np.isnan(train).any().any()"
   ]
  },
  {
   "cell_type": "code",
   "execution_count": 24,
   "metadata": {},
   "outputs": [],
   "source": [
    "from numpy.random import seed\n",
    "from pandas import read_csv\n",
    "import lightgbm as lgb\n",
    "from xgboost import XGBClassifier\n",
    "\n",
    "train = df.copy()\n",
    "train.fillna(0, inplace=True)\n",
    "\n",
    "X = train.drop([\"y\"], axis=1)\n",
    "y = train[[\"y\"]]\n",
    "\n",
    "clf = lgb.LGBMClassifier()\n",
    "clf = XGBClassifier()\n",
    "clf.fit(X, y)\n",
    "\n",
    "import shap\n",
    "shap_values = shap.TreeExplainer(clf).shap_values(X[0:10000])\n",
    "\n"
   ]
  },
  {
   "cell_type": "code",
   "execution_count": 30,
   "metadata": {},
   "outputs": [
    {
     "data": {
      "image/png": "[encoded data removed]",
      "text/plain": [
       "<Figure size 576x684 with 2 Axes>"
      ]
     },
     "metadata": {
      "needs_background": "light"
     },
     "output_type": "display_data"
    }
   ],
   "source": [
    "shap.summary_plot(shap_values, X[0:10000])"
   ]
  },
  {
   "cell_type": "code",
   "execution_count": 26,
   "metadata": {},
   "outputs": [
    {
     "data": {
      "text/html": [
       "['nr.employed', 'contact_telephone', 'cons.price.idx', 'cons.conf.idx', 'previous', 'age', 'pdays', 'day_of_week_mon', 'poutcome_success', 'campaign', 'day_of_week_thu', 'default_unknown', 'day_of_week_wed', 'housing_yes', 'month_may', 'job_blue-collar', 'month_oct', 'expected_income', 'education_level', 'month_mar', 'month_jul', 'marital_single', 'education_basic.9y', 'job_unknown', 'month_aug', 'job_technician', 'month_nov', 'marital_married', 'month_dec', 'job_services', 'job_housemaid', 'education_unknown', 'job_student', 'education_basic.6y', 'job_unemployed', 'job_self-employed', 'education_high.school']"
      ],
      "text/plain": [
       "['nr.employed',\n",
       " 'contact_telephone',\n",
       " 'cons.price.idx',\n",
       " 'cons.conf.idx',\n",
       " 'previous',\n",
       " 'age',\n",
       " 'pdays',\n",
       " 'day_of_week_mon',\n",
       " 'poutcome_success',\n",
       " 'campaign',\n",
       " 'day_of_week_thu',\n",
       " 'default_unknown',\n",
       " 'day_of_week_wed',\n",
       " 'housing_yes',\n",
       " 'month_may',\n",
       " 'job_blue-collar',\n",
       " 'month_oct',\n",
       " 'expected_income',\n",
       " 'education_level',\n",
       " 'month_mar',\n",
       " 'month_jul',\n",
       " 'marital_single',\n",
       " 'education_basic.9y',\n",
       " 'job_unknown',\n",
       " 'month_aug',\n",
       " 'job_technician',\n",
       " 'month_nov',\n",
       " 'marital_married',\n",
       " 'month_dec',\n",
       " 'job_services',\n",
       " 'job_housemaid',\n",
       " 'education_unknown',\n",
       " 'job_student',\n",
       " 'education_basic.6y',\n",
       " 'job_unemployed',\n",
       " 'job_self-employed',\n",
       " 'education_high.school']"
      ]
     },
     "execution_count": 26,
     "metadata": {},
     "output_type": "execute_result"
    }
   ],
   "source": [
    "import pandas as pd\n",
    "from numpy import cumsum\n",
    "sorted_feature_importance = pd.DataFrame(shap_values, columns=X.columns).abs().sum().sort_values(ascending=False)\n",
    "cumulative_sum = cumsum([y for (x,y) in sorted_feature_importance.reset_index().values])\n",
    "gt_999_importance = cumulative_sum / cumulative_sum[-1] > .999\n",
    "nth_feature = min([y for (x,y) in zip(gt_999_importance, zip(range(len(gt_999_importance)))) if x])[0]\n",
    "important_columns = sorted_feature_importance.iloc[0:nth_feature+1].index.values.tolist()\n",
    "important_columns"
   ]
  },
  {
   "cell_type": "code",
   "execution_count": 27,
   "metadata": {},
   "outputs": [
    {
     "data": {
      "text/plain": [
       "nr.employed                         5823.486328\n",
       "contact_telephone                   1495.109131\n",
       "cons.price.idx                      1228.209717\n",
       "cons.conf.idx                        834.666138\n",
       "previous                             741.575745\n",
       "age                                  678.315002\n",
       "pdays                                573.548889\n",
       "day_of_week_mon                      510.294312\n",
       "poutcome_success                     488.276245\n",
       "campaign                             482.150970\n",
       "day_of_week_thu                      333.484924\n",
       "default_unknown                      285.398132\n",
       "day_of_week_wed                      239.742050\n",
       "housing_yes                          224.395050\n",
       "month_may                            174.854843\n",
       "job_blue-collar                      173.174255\n",
       "month_oct                            169.181519\n",
       "expected_income                      151.437927\n",
       "education_level                      135.388397\n",
       "month_mar                            121.356476\n",
       "month_jul                            101.423668\n",
       "marital_single                        88.124420\n",
       "education_basic.9y                    59.015022\n",
       "job_unknown                           51.938038\n",
       "month_aug                             43.406498\n",
       "job_technician                        35.425941\n",
       "month_nov                             31.436171\n",
       "marital_married                       31.300144\n",
       "month_dec                             26.380552\n",
       "job_services                          19.541977\n",
       "job_housemaid                         17.975115\n",
       "education_unknown                     17.895309\n",
       "job_student                           17.111732\n",
       "education_basic.6y                    13.378222\n",
       "job_unemployed                        12.508498\n",
       "job_self-employed                     10.251720\n",
       "education_high.school                  8.727577\n",
       "loan_yes                               7.104764\n",
       "loan_unknown_and_housing_unknown       4.648053\n",
       "day_of_week_tue                        0.629219\n",
       "job_entrepreneur                       0.000000\n",
       "marital_unknown                        0.000000\n",
       "age_lte_23                             0.000000\n",
       "age_gte_61                             0.000000\n",
       "job_management                         0.000000\n",
       "education_illiterate                   0.000000\n",
       "education_professional.course          0.000000\n",
       "default_yes                            0.000000\n",
       "job_retired                            0.000000\n",
       "month_jun                              0.000000\n",
       "month_sep                              0.000000\n",
       "poutcome_nonexistent                   0.000000\n",
       "expected_bank_balance_by_age           0.000000\n",
       "dtype: float32"
      ]
     },
     "execution_count": 27,
     "metadata": {},
     "output_type": "execute_result"
    }
   ],
   "source": [
    "sorted_feature_importance"
   ]
  },
  {
   "cell_type": "code",
   "execution_count": 28,
   "metadata": {},
   "outputs": [
    {
     "ename": "SyntaxError",
     "evalue": "invalid syntax (<ipython-input-28-f924d73d466f>, line 2)",
     "output_type": "error",
     "traceback": [
      "\u001b[0;36m  File \u001b[0;32m\"<ipython-input-28-f924d73d466f>\"\u001b[0;36m, line \u001b[0;32m2\u001b[0m\n\u001b[0;31m    *job_self-employed                      3.679979\u001b[0m\n\u001b[0m                                                   ^\u001b[0m\n\u001b[0;31mSyntaxError\u001b[0m\u001b[0;31m:\u001b[0m invalid syntax\n"
     ]
    }
   ],
   "source": [
    "# xgboost says drop these:\n",
    "*job_self-employed                      3.679979\n",
    "*job_technician                         3.371524\n",
    "*job_unemployed                         2.693683\n",
    "*job_retired                            0.000000\n",
    "*job_entrepreneur                       0.000000\n",
    "*job_services                           0.000000\n",
    "*job_management                         0.000000\n",
    "\n",
    "*education_unknown                      0.000000\n",
    "*education_professional.course          0.000000\n",
    "*education_illiterate                   0.000000\n",
    "\n",
    "*loan_yes                               1.619467\n",
    "*poutcome_nonexistent                   0.000000\n",
    "*month_sep                              0.000000\n",
    "*default_yes                            0.000000\n",
    "\n",
    "\n"
   ]
  },
  {
   "cell_type": "code",
   "execution_count": null,
   "metadata": {},
   "outputs": [],
   "source": [
    "X = df.select_dtypes(\"O\").head().values"
   ]
  },
  {
   "cell_type": "code",
   "execution_count": null,
   "metadata": {},
   "outputs": [],
   "source": [
    "X[0,2]"
   ]
  },
  {
   "cell_type": "code",
   "execution_count": null,
   "metadata": {},
   "outputs": [],
   "source": [
    "df.iloc[0]"
   ]
  },
  {
   "cell_type": "code",
   "execution_count": null,
   "metadata": {},
   "outputs": [],
   "source": [
    "df.select_dtypes(\"O\").head()"
   ]
  },
  {
   "cell_type": "markdown",
   "metadata": {},
   "source": [
    "## Scratch Work"
   ]
  },
  {
   "cell_type": "code",
   "execution_count": null,
   "metadata": {},
   "outputs": [],
   "source": [
    "from pandas import read_csv\n",
    "train = read_csv(\"../data/interim/train.csv\")\n",
    "test = read_csv(\"../data/interim/test.csv\")\n",
    "\n",
    "num_attribs = train.select_dtypes(exclude=\"O\").drop([\"y\"], axis=1)\n",
    "cat_attribs = train.select_dtypes(include=\"O\")"
   ]
  },
  {
   "cell_type": "code",
   "execution_count": null,
   "metadata": {},
   "outputs": [],
   "source": [
    "num_attribs"
   ]
  },
  {
   "cell_type": "code",
   "execution_count": null,
   "metadata": {},
   "outputs": [],
   "source": [
    "import numpy as np\n",
    "import pandas as pd\n",
    "df = pd.DataFrame({'a':[1,2,3,4], 'b':[10,20,30,40], 'c':[100,200,300,400], 'd':[-1,-2,-3,-4], 'e':[-10,-20,-30,-40] })\n",
    "X = df.values\n",
    "X[:, (1,3,4)]\n"
   ]
  },
  {
   "cell_type": "code",
   "execution_count": null,
   "metadata": {},
   "outputs": [],
   "source": [
    "X[:, ~1]"
   ]
  },
  {
   "cell_type": "code",
   "execution_count": null,
   "metadata": {},
   "outputs": [],
   "source": [
    "np.c_[np.delete(X, [0,2,3], 1)]"
   ]
  },
  {
   "cell_type": "code",
   "execution_count": null,
   "metadata": {},
   "outputs": [],
   "source": [
    "np.delete(X, [0,2,3], 1)"
   ]
  },
  {
   "cell_type": "code",
   "execution_count": null,
   "metadata": {},
   "outputs": [],
   "source": [
    "import numpy as np\n",
    "from pandas import read_csv\n",
    "from numpy.random import seed\n",
    "from sklearn.pipeline import Pipeline, FeatureUnion\n",
    "from sklearn.preprocessing import StandardScaler, MinMaxScaler, \\\n",
    "                                  OneHotEncoder\n",
    "\n",
    "from sklearn.base import BaseEstimator, TransformerMixin\n",
    "import warnings\n",
    "warnings.filterwarnings(\"ignore\")\n",
    "\n",
    "def _get_education_level(education):\n",
    "    education_level = 0\n",
    "    if education == \"illiterate\":\n",
    "        education_level = 0\n",
    "    elif education == \"basic.4y\":\n",
    "        education_level = 1\n",
    "    elif education == \"basic.6y\":\n",
    "        education_level = 2\n",
    "    elif education == \"basic.9y\":\n",
    "        education_level = 3\n",
    "    elif education == \"high.school\":\n",
    "        education_level = 4\n",
    "    elif education == \"professional.course\":\n",
    "        education_level = 6\n",
    "    elif education == \"university.degree\":\n",
    "        education_level = 8\n",
    "    else:\n",
    "        education_level = 4\n",
    "    return education_level\n",
    "\n",
    "def _get_expected_income(job, age):\n",
    "    beginner_income = 0\n",
    "    expert_income = 0\n",
    "    income = 0\n",
    "    if job == 'admin.':\n",
    "        beginner_income = 32500\n",
    "        expert_income = 64000\n",
    "    elif job == 'blue-collar':\n",
    "        beginner_income = 22000\n",
    "        expert_income = 50000\n",
    "    elif job == 'technician':\n",
    "        beginner_income = 25000\n",
    "        expert_income = 55000\n",
    "    elif job == 'services':\n",
    "        beginner_income = 34000\n",
    "        expert_income = 55000\n",
    "\n",
    "    elif job == 'management':\n",
    "        beginner_income = 45000\n",
    "        expert_income = 122000\n",
    "    elif job == 'retired':\n",
    "        beginner_income = 10000\n",
    "        expert_income = 10000\n",
    "    elif job == 'entrepreneur':\n",
    "        beginner_income = 25000\n",
    "        expert_income = 50000\n",
    "    elif job == 'self-employed':\n",
    "        beginner_income = 25000\n",
    "        expert_income = 50000\n",
    "    elif job == 'housemaid':\n",
    "        beginner_income = 19000\n",
    "        expert_income = 30000\n",
    "    elif job == 'unemployed':\n",
    "        beginner_income = 0\n",
    "        expert_income = 0\n",
    "    elif job == 'student':\n",
    "        beginner_income = 0\n",
    "        expert_income = 0\n",
    "    elif job == 'unknown':\n",
    "        beginner_income = 25000\n",
    "        expert_income = 35000\n",
    "\n",
    "    income_range = expert_income - beginner_income\n",
    "\n",
    "    if age <= 19:\n",
    "        income = beginner_income\n",
    "    elif age <= 24:\n",
    "        income = beginner_income + 0.22 * income_range\n",
    "    elif age <= 34:\n",
    "        income = beginner_income + 0.65 * income_range\n",
    "    elif age <= 44:\n",
    "        income = beginner_income + 0.97 * income_range\n",
    "    elif age <= 54:\n",
    "        income = beginner_income + 1.00 * income_range\n",
    "    elif age <= 64:\n",
    "        income = beginner_income + 0.99 * income_range\n",
    "    else:\n",
    "        income = beginner_income + 0.88 * income_range\n",
    "    return income\n",
    "\n",
    "def _get_loan_unknown_and_housing_unknown(loan_unknown, housing_unknown):\n",
    "    return 1 if loan_unknown == 1 and housing_unknown == 1 else 0\n",
    "\n",
    "# Not used in this project\n",
    "def _run_feature_selection(train):\n",
    "    import shap\n",
    "    import pandas as pd\n",
    "    from numpy import cumsum\n",
    "    from xgboost import XGBClassifier\n",
    "\n",
    "    seed(40)\n",
    "\n",
    "    train.fillna(0, inplace=True)\n",
    "\n",
    "    # X and y\n",
    "    X = train.drop([\"y\"], axis=1)\n",
    "    y = train[[\"y\"]]\n",
    "\n",
    "    # lightgbm for large number of columns\n",
    "    # import lightgbm as lgb; clf = lgb.LGBMClassifier()\n",
    "\n",
    "    # Fit xgboost\n",
    "    clf = XGBClassifier()\n",
    "    clf.fit(X, y)\n",
    "\n",
    "    # shap values\n",
    "    shap_values = shap.TreeExplainer(clf).shap_values(X[0:10000])\n",
    "\n",
    "    sorted_feature_importance = pd.DataFrame(shap_values, columns=X.columns).abs().sum().sort_values(ascending=False)\n",
    "    cumulative_sum = cumsum([y for (x,y) in sorted_feature_importance.reset_index().values])\n",
    "    gt_999_importance = cumulative_sum / cumulative_sum[-1] > .999\n",
    "    nth_feature = min([y for (x,y) in zip(gt_999_importance, zip(range(len(gt_999_importance)))) if x])[0]\n",
    "    important_columns = sorted_feature_importance.iloc[0:nth_feature+1].index.values.tolist()\n",
    "    important_columns\n",
    "    return important_columns\n",
    "\n",
    "\n",
    "class DataFrameSelector(BaseEstimator, TransformerMixin):\n",
    "    def __init__(self, attribute_names):\n",
    "        self.attribute_names = attribute_names\n",
    "    def fit(self, X, y=None):\n",
    "        return self\n",
    "    def transform(self, X, y=None):\n",
    "        return X[self.attribute_names].values\n",
    "\n",
    "a_age_ix, a_emp_var_rate_ix, a_euribor3m_ix = 0, 4, 7\n",
    "\n",
    "\n",
    "class NewNumericAttributesAdder(BaseEstimator, TransformerMixin):\n",
    "    def __init__(self, add_age_booleans=True):\n",
    "        self.add_age_booleans = add_age_booleans\n",
    "    def fit(self, X, y=None):\n",
    "        return self\n",
    "    def transform(self, X, y=None):\n",
    "        if self.add_age_booleans:\n",
    "            age_gte_61 = np.vectorize(lambda x: 1 if x >= 61 else 0)(X[:, a_age_ix])\n",
    "            age_lte_23 = np.vectorize(lambda x: 1 if x <= 23 else 0)(X[:, a_age_ix])\n",
    "            return np.c_[X, age_gte_61, age_lte_23]\n",
    "        else:\n",
    "            return np.c_[X]\n",
    "\n",
    "\n",
    "class DropCorrelatedFeatures(BaseEstimator, TransformerMixin):\n",
    "    def __init__(self, drop_indicators, drop_age):\n",
    "        self.drop_indicators = drop_indicators\n",
    "        self.drop_age = drop_age\n",
    "    def fit(self, X, y=None):\n",
    "        return self\n",
    "    def transform(self, X, y=None):\n",
    "        if self.drop_indicators and self.drop_age:\n",
    "            new_X = np.delete(X, [a_age_ix, a_emp_var_rate_ix, a_euribor3m_ix], 1)\n",
    "        elif self.drop_indicators:\n",
    "            new_X = np.delete(X, [a_emp_var_rate_ix, a_euribor3m_ix], 1)\n",
    "        elif self.drop_age:\n",
    "            new_X = np.delete(X, [a_age_ix], 1)\n",
    "        return np.c[new_X]\n",
    "\n",
    "\n",
    "b_age_ix, b_job_ix, b_education_ix = 0, 1, 2\n",
    "\n",
    "class NewHybridAttributesAdder(BaseEstimator, TransformerMixin):\n",
    "    def __init__(self, add_income=True):\n",
    "        self.add_income = add_income\n",
    "    def fit(self, X, y=None):\n",
    "        return self\n",
    "    def transform(self, X, y=None):\n",
    "        education_level = np.vectorize(_get_education_level)(X[:, b_education_ix])\n",
    "        if self.add_income:\n",
    "            expected_income = np.vectorize(_get_expected_income)(X[:, b_job_ix], X[:, b_age_ix])\n",
    "            return np.c_[education_level, expected_income]\n",
    "        else:\n",
    "            return np.c_[education_level]\n",
    "\n",
    "\n",
    "c_job_ix, c_education_ix, c_default_ix = 0, 2, 3\n",
    "c_loan_ix, c_month_ix, c_poutcome_ix = 5, 7, 9\n",
    "\n",
    "class DropUnimportantCategoryValues(BaseEstimator, TransformerMixin):\n",
    "    def __init__(self, drop=True):\n",
    "        self.drop = drop\n",
    "    def fit(self, X, y=None):\n",
    "        self.first_value = [\"\"]*10\n",
    "        for ix in [c_job_ix, c_education_ix, c_default_ix, c_loan_ix,\n",
    "                    c_month_ix, c_poutcome_ix]:\n",
    "            self.first_value[ix] = X[0, ix]\n",
    "        return self\n",
    "    def transform(self, X, y=None):\n",
    "        if not self.drop:\n",
    "            return np.c_[X]\n",
    "        else:\n",
    "            jobs_to_ignore = [\"self-employed\", \"technician\", \"unemployed\",\n",
    "                              \"retired\", \"entrepreneur\", \"services\",\n",
    "                              \"management\"]\n",
    "            education_to_ignore = [\"unknown\", \"professional.course\",\n",
    "                                   \"illiterate\"]\n",
    "            job = np.vectorize(lambda x: x if x not in jobs_to_ignore\n",
    "                    else self.first_value[c_job_ix])(X[:, c_job_ix])\n",
    "            education = np.vectorize(lambda x: x if x not in education_to_ignore \\\n",
    "                    else self.first_value[c_education_ix])(X[:, c_education_ix])\n",
    "            education = np.vectorize(lambda x: x if x not in education_to_ignore \\\n",
    "                    else self.first_value[c_education_ix])(X[:, c_education_ix])\n",
    "            default = np.vectorize(lambda x: x if x != \"yes\" \\\n",
    "                    else self.first_value[c_default_ix])(X[:, c_default_ix])\n",
    "            loan = np.vectorize(lambda x: x if x != \"yes\" \\\n",
    "                    else self.first_value[c_loan_ix])(X[:, c_loan_ix])\n",
    "            month = np.vectorize(lambda x: x if x != \"sep\" \\\n",
    "                    else self.first_value[c_month_ix])(X[:, c_month_ix])\n",
    "            poutcome = np.vectorize(lambda x: x if x != \"nonexistent\" \\\n",
    "                    else self.first_value[c_poutcome_ix])(X[:, c_poutcome_ix])\n",
    "            return np.c_[job, X[:, 1], education, default, X[:, 4],\n",
    "                         loan, X[:, 6], month, X[:, 8], poutcome]\n",
    "\n",
    "class LogXShape(BaseEstimator, TransformerMixin):\n",
    "    def __init__(self, drop=True):\n",
    "        pass\n",
    "    def fit(self, X, y=None):\n",
    "        return self\n",
    "    def transform(self, X, y=None):\n",
    "        print(X.shape)\n",
    "        return X\n",
    "\n",
    "\n",
    "def data_preparation():\n",
    "    # Extract\n",
    "    train = read_csv(\"../data/interim/train.csv\", nrows=250)\n",
    "\n",
    "    num_attribs = train.select_dtypes(exclude=\"O\").drop([\"y\"], axis=1).columns\n",
    "    hybrid_attribs = train[[\"age\", \"job\", \"education\"]].columns\n",
    "    cat_attribs = train.select_dtypes(include=\"O\").columns\n",
    "\n",
    "    num_pipeline = Pipeline([\n",
    "        ('selector', DataFrameSelector(num_attribs)),\n",
    "        ('new_numeric_attribs_adder', NewNumericAttributesAdder()),\n",
    "        ('std_scaler', StandardScaler()),\n",
    "        ('minmax_scaler', MinMaxScaler()),\n",
    "    ])\n",
    "\n",
    "    hybrid_pipeline = Pipeline([\n",
    "        ('selector', DataFrameSelector(hybrid_attribs)),\n",
    "        ('new_hybrid_attribs_adder', NewHybridAttributesAdder()),\n",
    "        ('std_scaler', StandardScaler()),\n",
    "        ('minmax_scaler', MinMaxScaler()),\n",
    "    ])\n",
    "\n",
    "    cat_pipeline = Pipeline([\n",
    "        ('selector', DataFrameSelector(cat_attribs)),\n",
    "        ('drop_unimportant_category_values', DropUnimportantCategoryValues()),\n",
    "        ('cat_encoder', OneHotEncoder(drop='first')),\n",
    "        # ('log_X_shape', LogXShape()),\n",
    "    ])\n",
    "\n",
    "    features_pipeline = FeatureUnion(transformer_list=[\n",
    "        (\"num_pipeline\", num_pipeline),\n",
    "        (\"hybrid_pipeline\", hybrid_pipeline),\n",
    "        (\"cat_pipeline\", cat_pipeline),\n",
    "    ])\n",
    "\n",
    "    return features_pipeline\n"
   ]
  },
  {
   "cell_type": "code",
   "execution_count": null,
   "metadata": {},
   "outputs": [],
   "source": [
    "# # Add this project to the path\n",
    "# import os; import sys; currDir = os.path.dirname(os.path.realpath(\"__file__\"))\n",
    "# rootDir = os.path.abspath(os.path.join(currDir, '..')); sys.path.insert(1, rootDir + \"/src/\")\n",
    "\n",
    "# # Warnings\n",
    "# import warnings\n",
    "# warnings.filterwarnings(\"ignore\")\n",
    "\n",
    "# # My modules\n",
    "# from models.train_model import *\n",
    "# from features.build_features import *\n",
    "\n",
    "# Public modules\n",
    "import numpy as np\n",
    "from pandas import read_csv\n",
    "import matplotlib.pyplot as plt\n",
    "from sklearn.pipeline import Pipeline\n",
    "from sklearn.linear_model import LogisticRegression\n",
    "from sklearn.model_selection import cross_val_score, learning_curve\n",
    "from sklearn.metrics import precision_recall_curve, confusion_matrix, \\\n",
    "                            precision_score, recall_score\n",
    "from sklearn.model_selection import cross_val_predict\n",
    "from numpy.random import seed\n",
    "import matplotlib.pyplot as plt\n",
    "from sklearn.model_selection import learning_curve\n",
    "\n",
    "# Extract\n",
    "seed(40)\n",
    "train = read_csv(\"../data/interim/train.csv\")\n",
    "train_y = train[[\"y\"]].values\n",
    "\n",
    "# Data parameters\n",
    "features_pipeline = data_preparation()\n",
    "\n",
    "# Model parameters\n",
    "full_pipeline = Pipeline([\n",
    "    (\"features\", features_pipeline),\n",
    "    (\"clf\", LogisticRegression(random_state=1)),\n",
    "])\n",
    "\n",
    "# TESTING THIS NEW CODE:\n",
    "# TESTING THIS NEW CODE:\n",
    "# TESTING THIS NEW CODE:\n",
    "# TESTING THIS NEW CODE:\n",
    "def custom_cv_2folds(X):\n",
    "    n = X.shape[0]\n",
    "    i = 1\n",
    "    while i <= 2:\n",
    "        if i == 1:\n",
    "            idx = np.arange(n * (i - 1) / 2, n-15, dtype=int)\n",
    "            yield idx, idx\n",
    "        if i == 2:\n",
    "            idx = np.arange(n - 15, n, dtype=int)\n",
    "            yield idx, idx\n",
    "        i += 1\n",
    "custom_cv = custom_cv_2folds(train)\n",
    "\n",
    "# Learning curve\n",
    "train_sizes, train_scores, test_scores = \\\n",
    "    learning_curve(estimator=full_pipeline,\n",
    "                   X=train,\n",
    "                   y=train_y,\n",
    "                   train_sizes=np.linspace(0.1, 1.0, 10),\n",
    "                   cv=custom_cv,\n",
    "                   n_jobs=1)\n",
    "train_mean = np.mean(train_scores, axis=1)\n",
    "train_std = np.std(train_scores, axis=1)\n",
    "test_mean = np.mean(test_scores, axis=1)\n",
    "test_std = np.std(test_scores, axis=1)\n",
    "plt.plot(train_sizes, train_mean,\n",
    "         color='blue', marker='o', markersize=5, label='training accuracy')\n",
    "plt.fill_between(train_sizes, train_mean + train_std,\n",
    "                 train_mean - train_std, alpha=0.15, color='blue')\n",
    "plt.plot(train_sizes, test_mean,\n",
    "         color='green', linestyle='--',\n",
    "         marker='s', markersize=5,\n",
    "         label='validation accuracy')\n",
    "plt.fill_between(train_sizes, test_mean + test_std, test_mean - test_std,\n",
    "                 alpha=0.15, color='green')\n",
    "plt.grid()\n",
    "plt.xlabel('Number of training samples')\n",
    "plt.ylabel('Accuracy')\n",
    "plt.legend(loc='lower right')\n",
    "plt.ylim([0.875, 0.925])\n",
    "plt.show()\n",
    "\n",
    "\n",
    "\n",
    "\n",
    "\n",
    "\n",
    "\n",
    "\n",
    "\n",
    "\n",
    "\n",
    "\n",
    "\n",
    "\n",
    "\n",
    "# Fit\n",
    "full_pipeline.fit(train, train_y)\n",
    "\n",
    "# Predict\n",
    "precision_threshold = 0.20\n",
    "prob_y = full_pipeline.predict_proba(train)[:, 1]\n",
    "precision, recall, _ = precision_recall_curve(train_y, prob_y, pos_label=1)\n",
    "score = max([y for (x,y) in zip(precision, recall) if x >= precision_threshold])\n",
    "print('Recall score: %.3f' % score)\n",
    "\n",
    "\n",
    "# Error analysis\n",
    "if SHOW_ERROR_ANALYSIS:\n",
    "    precision_threshold_index = min([i for (x,i) in zip(precision, range(len(precision))) if x >= precision_threshold])\n",
    "    train[\"prob_y\"] = prob_y\n",
    "    prob_y_threshold = train.sort_values(\"prob_y\", ascending=False).iloc[len(precision) - precision_threshold_index].prob_y\n",
    "    pred_y = (prob_y >= prob_y_threshold).astype(bool)\n",
    "    print(\"Prob y Threshold: %.1f\" % (prob_y_threshold*100))\n",
    "    print(confusion_matrix(train_y, pred_y))\n",
    "    print(\"Recall: %.1f\" % (recall_score(train_y, pred_y)*100))\n",
    "    print(\"Precision: %.1f\" % (precision_score(train_y, pred_y)*100))\n"
   ]
  },
  {
   "cell_type": "code",
   "execution_count": 25,
   "metadata": {},
   "outputs": [
    {
     "data": {
      "text/plain": [
       "array([ 2470,  4941,  7411,  9882, 12352, 14823, 17293, 19764, 22234,\n",
       "       24705])"
      ]
     },
     "execution_count": 25,
     "metadata": {},
     "output_type": "execute_result"
    }
   ],
   "source": [
    "(np.linspace(0.1, 1.0, 10)*train.shape[0]).astype(int)"
   ]
  },
  {
   "cell_type": "code",
   "execution_count": 20,
   "metadata": {},
   "outputs": [
    {
     "data": {
      "text/plain": [
       "array([0.94714459, 0.95210612, 0.95301742, 0.95200486, 0.95038477,\n",
       "       0.94987849, 0.95050049, 0.95033414, 0.95022726, 0.9499595 ])"
      ]
     },
     "execution_count": 20,
     "metadata": {},
     "output_type": "execute_result"
    }
   ],
   "source": [
    "np.mean(train_scores, axis=1)"
   ]
  },
  {
   "cell_type": "code",
   "execution_count": 18,
   "metadata": {},
   "outputs": [
    {
     "data": {
      "text/plain": [
       "(array([ 2469,  4938,  7407,  9876, 12345, 14814, 17283, 19752, 22221,\n",
       "        24690]), array([[0.89428919, 1.        ],\n",
       "        [0.90421223, 1.        ],\n",
       "        [0.90603483, 1.        ],\n",
       "        [0.90400972, 1.        ],\n",
       "        [0.90076954, 1.        ],\n",
       "        [0.89975699, 1.        ],\n",
       "        [0.90100098, 1.        ],\n",
       "        [0.90066829, 1.        ],\n",
       "        [0.90045452, 1.        ],\n",
       "        [0.899919  , 1.        ]]), array([[0.89773188, 1.        ],\n",
       "        [0.90056703, 1.        ],\n",
       "        [0.89943297, 1.        ],\n",
       "        [0.90020251, 1.        ],\n",
       "        [0.89987849, 1.        ],\n",
       "        [0.89979749, 1.        ],\n",
       "        [0.90012151, 1.        ],\n",
       "        [0.900081  , 1.        ],\n",
       "        [0.900081  , 1.        ],\n",
       "        [0.899919  , 1.        ]]))"
      ]
     },
     "execution_count": 18,
     "metadata": {},
     "output_type": "execute_result"
    }
   ],
   "source": [
    "train_sizes, train_scores, test_scores"
   ]
  },
  {
   "cell_type": "code",
   "execution_count": 19,
   "metadata": {},
   "outputs": [
    {
     "data": {
      "text/plain": [
       "(24705, 20)"
      ]
     },
     "execution_count": 19,
     "metadata": {},
     "output_type": "execute_result"
    }
   ],
   "source": [
    "train.shape"
   ]
  },
  {
   "cell_type": "code",
   "execution_count": null,
   "metadata": {},
   "outputs": [],
   "source": []
  }
 ],
 "metadata": {
  "kernelspec": {
   "display_name": "bank_customer",
   "language": "python",
   "name": "bank_customer"
  },
  "language_info": {
   "codemirror_mode": {
    "name": "ipython",
    "version": 3
   },
   "file_extension": ".py",
   "mimetype": "text/x-python",
   "name": "python",
   "nbconvert_exporter": "python",
   "pygments_lexer": "ipython3",
   "version": "3.6.5"
  },
  "toc": {
   "base_numbering": 1,
   "nav_menu": {},
   "number_sections": true,
   "sideBar": true,
   "skip_h1_title": false,
   "title_cell": "Table of Contents",
   "title_sidebar": "Contents",
   "toc_cell": false,
   "toc_position": {},
   "toc_section_display": true,
   "toc_window_display": false
  }
 },
 "nbformat": 4,
 "nbformat_minor": 2
}
