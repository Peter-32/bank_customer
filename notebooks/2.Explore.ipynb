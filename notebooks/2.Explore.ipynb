{
 "cells": [
  {
   "cell_type": "code",
   "execution_count": 101,
   "metadata": {},
   "outputs": [],
   "source": [
    "# Add this project to the path\n",
    "import os; import sys; currDir = os.path.dirname(os.path.realpath(\"__file__\"))\n",
    "rootDir = os.path.abspath(os.path.join(currDir, '..')); sys.path.insert(1, rootDir + \"/src\")\n",
    "\n",
    "# Imports and options\n",
    "import numpy as np\n",
    "import pandas as pd\n",
    "import matplotlib.pyplot as plt\n",
    "import seaborn as sns\n",
    "import warnings\n",
    "warnings.filterwarnings(\"ignore\")\n",
    "pd.set_option('display.max_columns', None)\n",
    "\n",
    "# Extract\n",
    "df = pd.read_csv(\"../data/interim/train.csv\")\n",
    "\n"
   ]
  },
  {
   "cell_type": "code",
   "execution_count": 102,
   "metadata": {},
   "outputs": [
    {
     "data": {
      "text/html": [
       "<div>\n",
       "<style scoped>\n",
       "    .dataframe tbody tr th:only-of-type {\n",
       "        vertical-align: middle;\n",
       "    }\n",
       "\n",
       "    .dataframe tbody tr th {\n",
       "        vertical-align: top;\n",
       "    }\n",
       "\n",
       "    .dataframe thead th {\n",
       "        text-align: right;\n",
       "    }\n",
       "</style>\n",
       "<table border=\"1\" class=\"dataframe\">\n",
       "  <thead>\n",
       "    <tr style=\"text-align: right;\">\n",
       "      <th></th>\n",
       "      <th>age</th>\n",
       "      <th>job</th>\n",
       "      <th>marital</th>\n",
       "      <th>education</th>\n",
       "      <th>default</th>\n",
       "      <th>housing</th>\n",
       "      <th>loan</th>\n",
       "      <th>contact</th>\n",
       "      <th>month</th>\n",
       "      <th>day_of_week</th>\n",
       "      <th>campaign</th>\n",
       "      <th>pdays</th>\n",
       "      <th>previous</th>\n",
       "      <th>poutcome</th>\n",
       "      <th>emp.var.rate</th>\n",
       "      <th>cons.price.idx</th>\n",
       "      <th>cons.conf.idx</th>\n",
       "      <th>euribor3m</th>\n",
       "      <th>nr.employed</th>\n",
       "      <th>y</th>\n",
       "    </tr>\n",
       "  </thead>\n",
       "  <tbody>\n",
       "    <tr>\n",
       "      <td>0</td>\n",
       "      <td>41</td>\n",
       "      <td>admin.</td>\n",
       "      <td>married</td>\n",
       "      <td>university.degree</td>\n",
       "      <td>no</td>\n",
       "      <td>yes</td>\n",
       "      <td>no</td>\n",
       "      <td>cellular</td>\n",
       "      <td>dec</td>\n",
       "      <td>thu</td>\n",
       "      <td>1</td>\n",
       "      <td>999</td>\n",
       "      <td>0</td>\n",
       "      <td>nonexistent</td>\n",
       "      <td>-3.0</td>\n",
       "      <td>92.713</td>\n",
       "      <td>-33.0</td>\n",
       "      <td>0.707</td>\n",
       "      <td>5023.5</td>\n",
       "      <td>1</td>\n",
       "    </tr>\n",
       "    <tr>\n",
       "      <td>1</td>\n",
       "      <td>71</td>\n",
       "      <td>retired</td>\n",
       "      <td>married</td>\n",
       "      <td>high.school</td>\n",
       "      <td>no</td>\n",
       "      <td>yes</td>\n",
       "      <td>no</td>\n",
       "      <td>cellular</td>\n",
       "      <td>apr</td>\n",
       "      <td>wed</td>\n",
       "      <td>2</td>\n",
       "      <td>999</td>\n",
       "      <td>0</td>\n",
       "      <td>nonexistent</td>\n",
       "      <td>-1.8</td>\n",
       "      <td>93.075</td>\n",
       "      <td>-47.1</td>\n",
       "      <td>1.415</td>\n",
       "      <td>5099.1</td>\n",
       "      <td>0</td>\n",
       "    </tr>\n",
       "    <tr>\n",
       "      <td>2</td>\n",
       "      <td>52</td>\n",
       "      <td>blue-collar</td>\n",
       "      <td>divorced</td>\n",
       "      <td>high.school</td>\n",
       "      <td>no</td>\n",
       "      <td>no</td>\n",
       "      <td>no</td>\n",
       "      <td>telephone</td>\n",
       "      <td>jun</td>\n",
       "      <td>wed</td>\n",
       "      <td>2</td>\n",
       "      <td>999</td>\n",
       "      <td>0</td>\n",
       "      <td>nonexistent</td>\n",
       "      <td>1.4</td>\n",
       "      <td>94.465</td>\n",
       "      <td>-41.8</td>\n",
       "      <td>4.959</td>\n",
       "      <td>5228.1</td>\n",
       "      <td>0</td>\n",
       "    </tr>\n",
       "    <tr>\n",
       "      <td>3</td>\n",
       "      <td>49</td>\n",
       "      <td>technician</td>\n",
       "      <td>single</td>\n",
       "      <td>university.degree</td>\n",
       "      <td>unknown</td>\n",
       "      <td>yes</td>\n",
       "      <td>no</td>\n",
       "      <td>telephone</td>\n",
       "      <td>may</td>\n",
       "      <td>wed</td>\n",
       "      <td>1</td>\n",
       "      <td>999</td>\n",
       "      <td>0</td>\n",
       "      <td>nonexistent</td>\n",
       "      <td>1.1</td>\n",
       "      <td>93.994</td>\n",
       "      <td>-36.4</td>\n",
       "      <td>4.856</td>\n",
       "      <td>5191.0</td>\n",
       "      <td>0</td>\n",
       "    </tr>\n",
       "    <tr>\n",
       "      <td>4</td>\n",
       "      <td>22</td>\n",
       "      <td>admin.</td>\n",
       "      <td>single</td>\n",
       "      <td>university.degree</td>\n",
       "      <td>no</td>\n",
       "      <td>yes</td>\n",
       "      <td>no</td>\n",
       "      <td>cellular</td>\n",
       "      <td>sep</td>\n",
       "      <td>mon</td>\n",
       "      <td>2</td>\n",
       "      <td>999</td>\n",
       "      <td>3</td>\n",
       "      <td>failure</td>\n",
       "      <td>-1.1</td>\n",
       "      <td>94.199</td>\n",
       "      <td>-37.5</td>\n",
       "      <td>0.882</td>\n",
       "      <td>4963.6</td>\n",
       "      <td>1</td>\n",
       "    </tr>\n",
       "  </tbody>\n",
       "</table>\n",
       "</div>"
      ],
      "text/plain": [
       "   age          job   marital          education  default housing loan  \\\n",
       "0   41       admin.   married  university.degree       no     yes   no   \n",
       "1   71      retired   married        high.school       no     yes   no   \n",
       "2   52  blue-collar  divorced        high.school       no      no   no   \n",
       "3   49   technician    single  university.degree  unknown     yes   no   \n",
       "4   22       admin.    single  university.degree       no     yes   no   \n",
       "\n",
       "     contact month day_of_week  campaign  pdays  previous     poutcome  \\\n",
       "0   cellular   dec         thu         1    999         0  nonexistent   \n",
       "1   cellular   apr         wed         2    999         0  nonexistent   \n",
       "2  telephone   jun         wed         2    999         0  nonexistent   \n",
       "3  telephone   may         wed         1    999         0  nonexistent   \n",
       "4   cellular   sep         mon         2    999         3      failure   \n",
       "\n",
       "   emp.var.rate  cons.price.idx  cons.conf.idx  euribor3m  nr.employed  y  \n",
       "0          -3.0          92.713          -33.0      0.707       5023.5  1  \n",
       "1          -1.8          93.075          -47.1      1.415       5099.1  0  \n",
       "2           1.4          94.465          -41.8      4.959       5228.1  0  \n",
       "3           1.1          93.994          -36.4      4.856       5191.0  0  \n",
       "4          -1.1          94.199          -37.5      0.882       4963.6  1  "
      ]
     },
     "execution_count": 102,
     "metadata": {},
     "output_type": "execute_result"
    }
   ],
   "source": [
    "df.head()"
   ]
  },
  {
   "cell_type": "code",
   "execution_count": 79,
   "metadata": {},
   "outputs": [
    {
     "data": {
      "text/plain": [
       "0    0.888191\n",
       "1    0.111809\n",
       "Name: y, dtype: float64"
      ]
     },
     "execution_count": 79,
     "metadata": {},
     "output_type": "execute_result"
    }
   ],
   "source": [
    "df['y'].value_counts(normalize=True)"
   ]
  },
  {
   "cell_type": "code",
   "execution_count": 80,
   "metadata": {},
   "outputs": [
    {
     "name": "stdout",
     "output_type": "stream",
     "text": [
      "<class 'pandas.core.frame.DataFrame'>\n",
      "RangeIndex: 32940 entries, 0 to 32939\n",
      "Data columns (total 20 columns):\n",
      "age               32940 non-null int64\n",
      "job               32940 non-null object\n",
      "marital           32940 non-null object\n",
      "education         32940 non-null object\n",
      "default           32940 non-null object\n",
      "housing           32940 non-null object\n",
      "loan              32940 non-null object\n",
      "contact           32940 non-null object\n",
      "month             32940 non-null object\n",
      "day_of_week       32940 non-null object\n",
      "campaign          32940 non-null int64\n",
      "pdays             32940 non-null int64\n",
      "previous          32940 non-null int64\n",
      "poutcome          32940 non-null object\n",
      "emp.var.rate      32940 non-null float64\n",
      "cons.price.idx    32940 non-null float64\n",
      "cons.conf.idx     32940 non-null float64\n",
      "euribor3m         32940 non-null float64\n",
      "nr.employed       32940 non-null float64\n",
      "y                 32940 non-null int64\n",
      "dtypes: float64(5), int64(5), object(10)\n",
      "memory usage: 5.0+ MB\n"
     ]
    }
   ],
   "source": [
    "df.info()"
   ]
  },
  {
   "cell_type": "code",
   "execution_count": 81,
   "metadata": {},
   "outputs": [
    {
     "name": "stdout",
     "output_type": "stream",
     "text": [
      "\n",
      " job \n",
      "\n",
      " admin.           8273\n",
      "blue-collar      7466\n",
      "technician       5388\n",
      "services         3175\n",
      "management       2303\n",
      "retired          1357\n",
      "entrepreneur     1169\n",
      "self-employed    1139\n",
      "housemaid         862\n",
      "unemployed        836\n",
      "student           707\n",
      "unknown           265\n",
      "Name: job, dtype: int64\n",
      "\n",
      " marital \n",
      "\n",
      " married     19994\n",
      "single       9211\n",
      "divorced     3665\n",
      "unknown        70\n",
      "Name: marital, dtype: int64\n",
      "\n",
      " education \n",
      "\n",
      " university.degree      9650\n",
      "high.school            7675\n",
      "basic.9y               4851\n",
      "professional.course    4160\n",
      "basic.4y               3397\n",
      "basic.6y               1835\n",
      "unknown                1356\n",
      "illiterate               16\n",
      "Name: education, dtype: int64\n",
      "\n",
      " default \n",
      "\n",
      " no         26009\n",
      "unknown     6929\n",
      "yes            2\n",
      "Name: default, dtype: int64\n",
      "\n",
      " housing \n",
      "\n",
      " yes        17211\n",
      "no         14918\n",
      "unknown      811\n",
      "Name: housing, dtype: int64\n",
      "\n",
      " loan \n",
      "\n",
      " no         27123\n",
      "yes         5006\n",
      "unknown      811\n",
      "Name: loan, dtype: int64\n",
      "\n",
      " contact \n",
      "\n",
      " cellular     20885\n",
      "telephone    12055\n",
      "Name: contact, dtype: int64\n",
      "\n",
      " month \n",
      "\n",
      " may    11031\n",
      "jul     5741\n",
      "aug     4953\n",
      "jun     4293\n",
      "nov     3244\n",
      "apr     2095\n",
      "oct      563\n",
      "mar      440\n",
      "sep      435\n",
      "dec      145\n",
      "Name: month, dtype: int64\n",
      "\n",
      " day_of_week \n",
      "\n",
      " thu    6876\n",
      "mon    6823\n",
      "tue    6477\n",
      "wed    6471\n",
      "fri    6293\n",
      "Name: day_of_week, dtype: int64\n",
      "\n",
      " poutcome \n",
      "\n",
      " nonexistent    28432\n",
      "failure         3406\n",
      "success         1102\n",
      "Name: poutcome, dtype: int64\n"
     ]
    }
   ],
   "source": [
    "for column in df.select_dtypes(\"O\").columns:\n",
    "    print(\"\\n\", column, \"\\n\\n\", df[column].value_counts())"
   ]
  },
  {
   "cell_type": "code",
   "execution_count": 82,
   "metadata": {},
   "outputs": [
    {
     "data": {
      "text/html": [
       "<div>\n",
       "<style scoped>\n",
       "    .dataframe tbody tr th:only-of-type {\n",
       "        vertical-align: middle;\n",
       "    }\n",
       "\n",
       "    .dataframe tbody tr th {\n",
       "        vertical-align: top;\n",
       "    }\n",
       "\n",
       "    .dataframe thead th {\n",
       "        text-align: right;\n",
       "    }\n",
       "</style>\n",
       "<table border=\"1\" class=\"dataframe\">\n",
       "  <thead>\n",
       "    <tr style=\"text-align: right;\">\n",
       "      <th></th>\n",
       "      <th>age</th>\n",
       "      <th>campaign</th>\n",
       "      <th>pdays</th>\n",
       "      <th>previous</th>\n",
       "      <th>emp.var.rate</th>\n",
       "      <th>cons.price.idx</th>\n",
       "      <th>cons.conf.idx</th>\n",
       "      <th>euribor3m</th>\n",
       "      <th>nr.employed</th>\n",
       "      <th>y</th>\n",
       "    </tr>\n",
       "  </thead>\n",
       "  <tbody>\n",
       "    <tr>\n",
       "      <td>count</td>\n",
       "      <td>32940.000000</td>\n",
       "      <td>32940.000000</td>\n",
       "      <td>32940.000000</td>\n",
       "      <td>32940.000000</td>\n",
       "      <td>32940.000000</td>\n",
       "      <td>32940.000000</td>\n",
       "      <td>32940.000000</td>\n",
       "      <td>32940.000000</td>\n",
       "      <td>32940.000000</td>\n",
       "      <td>32940.000000</td>\n",
       "    </tr>\n",
       "    <tr>\n",
       "      <td>mean</td>\n",
       "      <td>39.990680</td>\n",
       "      <td>2.572495</td>\n",
       "      <td>962.403127</td>\n",
       "      <td>0.173194</td>\n",
       "      <td>0.086485</td>\n",
       "      <td>93.578177</td>\n",
       "      <td>-40.506755</td>\n",
       "      <td>3.624456</td>\n",
       "      <td>5167.147395</td>\n",
       "      <td>0.111809</td>\n",
       "    </tr>\n",
       "    <tr>\n",
       "      <td>std</td>\n",
       "      <td>10.386832</td>\n",
       "      <td>2.791226</td>\n",
       "      <td>187.090745</td>\n",
       "      <td>0.496166</td>\n",
       "      <td>1.569459</td>\n",
       "      <td>0.578273</td>\n",
       "      <td>4.618878</td>\n",
       "      <td>1.734086</td>\n",
       "      <td>72.251862</td>\n",
       "      <td>0.315137</td>\n",
       "    </tr>\n",
       "    <tr>\n",
       "      <td>min</td>\n",
       "      <td>17.000000</td>\n",
       "      <td>1.000000</td>\n",
       "      <td>0.000000</td>\n",
       "      <td>0.000000</td>\n",
       "      <td>-3.400000</td>\n",
       "      <td>92.201000</td>\n",
       "      <td>-50.800000</td>\n",
       "      <td>0.634000</td>\n",
       "      <td>4963.600000</td>\n",
       "      <td>0.000000</td>\n",
       "    </tr>\n",
       "    <tr>\n",
       "      <td>25%</td>\n",
       "      <td>32.000000</td>\n",
       "      <td>1.000000</td>\n",
       "      <td>999.000000</td>\n",
       "      <td>0.000000</td>\n",
       "      <td>-1.800000</td>\n",
       "      <td>93.075000</td>\n",
       "      <td>-42.700000</td>\n",
       "      <td>1.344000</td>\n",
       "      <td>5099.100000</td>\n",
       "      <td>0.000000</td>\n",
       "    </tr>\n",
       "    <tr>\n",
       "      <td>50%</td>\n",
       "      <td>38.000000</td>\n",
       "      <td>2.000000</td>\n",
       "      <td>999.000000</td>\n",
       "      <td>0.000000</td>\n",
       "      <td>1.100000</td>\n",
       "      <td>93.749000</td>\n",
       "      <td>-41.800000</td>\n",
       "      <td>4.857000</td>\n",
       "      <td>5191.000000</td>\n",
       "      <td>0.000000</td>\n",
       "    </tr>\n",
       "    <tr>\n",
       "      <td>75%</td>\n",
       "      <td>47.000000</td>\n",
       "      <td>3.000000</td>\n",
       "      <td>999.000000</td>\n",
       "      <td>0.000000</td>\n",
       "      <td>1.400000</td>\n",
       "      <td>93.994000</td>\n",
       "      <td>-36.400000</td>\n",
       "      <td>4.961000</td>\n",
       "      <td>5228.100000</td>\n",
       "      <td>0.000000</td>\n",
       "    </tr>\n",
       "    <tr>\n",
       "      <td>max</td>\n",
       "      <td>98.000000</td>\n",
       "      <td>56.000000</td>\n",
       "      <td>999.000000</td>\n",
       "      <td>7.000000</td>\n",
       "      <td>1.400000</td>\n",
       "      <td>94.767000</td>\n",
       "      <td>-26.900000</td>\n",
       "      <td>5.045000</td>\n",
       "      <td>5228.100000</td>\n",
       "      <td>1.000000</td>\n",
       "    </tr>\n",
       "  </tbody>\n",
       "</table>\n",
       "</div>"
      ],
      "text/plain": [
       "                age      campaign         pdays      previous  emp.var.rate  \\\n",
       "count  32940.000000  32940.000000  32940.000000  32940.000000  32940.000000   \n",
       "mean      39.990680      2.572495    962.403127      0.173194      0.086485   \n",
       "std       10.386832      2.791226    187.090745      0.496166      1.569459   \n",
       "min       17.000000      1.000000      0.000000      0.000000     -3.400000   \n",
       "25%       32.000000      1.000000    999.000000      0.000000     -1.800000   \n",
       "50%       38.000000      2.000000    999.000000      0.000000      1.100000   \n",
       "75%       47.000000      3.000000    999.000000      0.000000      1.400000   \n",
       "max       98.000000     56.000000    999.000000      7.000000      1.400000   \n",
       "\n",
       "       cons.price.idx  cons.conf.idx     euribor3m   nr.employed             y  \n",
       "count    32940.000000   32940.000000  32940.000000  32940.000000  32940.000000  \n",
       "mean        93.578177     -40.506755      3.624456   5167.147395      0.111809  \n",
       "std          0.578273       4.618878      1.734086     72.251862      0.315137  \n",
       "min         92.201000     -50.800000      0.634000   4963.600000      0.000000  \n",
       "25%         93.075000     -42.700000      1.344000   5099.100000      0.000000  \n",
       "50%         93.749000     -41.800000      4.857000   5191.000000      0.000000  \n",
       "75%         93.994000     -36.400000      4.961000   5228.100000      0.000000  \n",
       "max         94.767000     -26.900000      5.045000   5228.100000      1.000000  "
      ]
     },
     "execution_count": 82,
     "metadata": {},
     "output_type": "execute_result"
    }
   ],
   "source": [
    "df.describe()"
   ]
  },
  {
   "cell_type": "markdown",
   "metadata": {},
   "source": [
    "Duplicates are fine because clients can be messaged more than once."
   ]
  },
  {
   "cell_type": "code",
   "execution_count": 83,
   "metadata": {},
   "outputs": [
    {
     "data": {
      "text/plain": [
       "array([<matplotlib.axes._subplots.AxesSubplot object at 0x137bbdb38>,\n",
       "       <matplotlib.axes._subplots.AxesSubplot object at 0x12b3d3e10>],\n",
       "      dtype=object)"
      ]
     },
     "execution_count": 83,
     "metadata": {},
     "output_type": "execute_result"
    },
    {
     "data": {
      "image/png": "[encoded data removed]",
      "text/plain": [
       "<Figure size 1152x216 with 2 Axes>"
      ]
     },
     "metadata": {
      "needs_background": "light"
     },
     "output_type": "display_data"
    }
   ],
   "source": [
    "df.hist(column=\"age\", by=\"y\", figsize=(16,3), bins=50)"
   ]
  },
  {
   "cell_type": "markdown",
   "metadata": {},
   "source": [
    "Clients older than 60 are much more likely to make the investment"
   ]
  },
  {
   "cell_type": "code",
   "execution_count": 84,
   "metadata": {},
   "outputs": [],
   "source": [
    "# sns.pairplot(df, hue=\"y\", diag_kind=\"hist\")\n"
   ]
  },
  {
   "cell_type": "markdown",
   "metadata": {},
   "source": [
    "Most separation:\n",
    "- old age (60+): a yes more often than average\n",
    "- 15+ contacts this campaign: very often a no\n",
    "- pdays low: a large proportion of yes\n",
    "- previous 2.0: possibly a large proportion of yes\n",
    "- emp.var.rate < -1: more likely a yes \n",
    "- emp.var.rate > -1: more likely a no\n",
    "- cons.price.index: possibly more yes for low values\n",
    "- cons.conf.index: might be positively correlated with cons.price.index\n",
    "- euibor3m low value: more likely a yes \n",
    "- euibor3m high value: more likely a no\n",
    "- nr.employed low value: more likely a yes \n",
    "- nr.employed high value: more likely a no\n"
   ]
  },
  {
   "cell_type": "code",
   "execution_count": 85,
   "metadata": {},
   "outputs": [
    {
     "data": {
      "text/plain": [
       "y                 1.000000\n",
       "previous          0.231272\n",
       "cons.conf.idx     0.055594\n",
       "age               0.027948\n",
       "housing           0.011991\n",
       "loan             -0.004271\n",
       "campaign         -0.064490\n",
       "default          -0.098079\n",
       "cons.price.idx   -0.139848\n",
       "emp.var.rate     -0.298606\n",
       "euribor3m        -0.307032\n",
       "pdays            -0.324359\n",
       "nr.employed      -0.352043\n",
       "Name: y, dtype: float64"
      ]
     },
     "execution_count": 85,
     "metadata": {},
     "output_type": "execute_result"
    }
   ],
   "source": [
    "temp = df.copy()\n",
    "for col in ['default', 'housing', 'loan']:\n",
    "    temp[col] = temp[col].apply(lambda x: 1 if x == \"yes\" else 0 if x == \"unknown\" else -1 if x ==\"no\" else -2)\n",
    "corr_matrix = temp.corr()\n",
    "corr_matrix['y'].sort_values(ascending=False)"
   ]
  },
  {
   "cell_type": "markdown",
   "metadata": {},
   "source": [
    "Comparing correlation to observations above:\n",
    "- previous: correlation sign shows as expected, higher values are positively correlated \n",
    "- cons.conf.idx: opposite correlation was expected, perhaps there is a nonlinear relationship\n",
    "- age: correlation sign shows as expected, small value.  Perhaps the greatest separation is among age 60+ which is a minority of the data.\n",
    "- campaign: nothing of interest before, has one of the lowest absolute value correlations\n",
    "- cons.price.idx, emp.var.rate, euribor3m, nr.employed have expected correlation sign, should see if some of these are correlated with each other and which can be removed\n",
    "- pdays has the expected correlation sign\n",
    "- default has a positive correlation"
   ]
  },
  {
   "cell_type": "code",
   "execution_count": 86,
   "metadata": {},
   "outputs": [
    {
     "data": {
      "text/plain": [
       "<matplotlib.axes._subplots.AxesSubplot at 0x137b56da0>"
      ]
     },
     "execution_count": 86,
     "metadata": {},
     "output_type": "execute_result"
    },
    {
     "data": {
      "image/png": "[encoded data removed]",
      "text/plain": [
       "<Figure size 432x288 with 2 Axes>"
      ]
     },
     "metadata": {
      "needs_background": "light"
     },
     "output_type": "display_data"
    }
   ],
   "source": [
    "cor_mat = temp.corr().apply(lambda x: abs(x))\n",
    "sns.heatmap(cor_mat, vmax=.8, square=True)\n"
   ]
  },
  {
   "cell_type": "markdown",
   "metadata": {},
   "source": [
    "emp.var.rate, euribor3m, and nr.employed are highly correlated.  I prefer to drop all but the one highest correlated with y, which is nr.employed"
   ]
  },
  {
   "cell_type": "code",
   "execution_count": 87,
   "metadata": {},
   "outputs": [
    {
     "data": {
      "text/plain": [
       "<matplotlib.axes._subplots.AxesSubplot at 0x133b81ac8>"
      ]
     },
     "execution_count": 87,
     "metadata": {},
     "output_type": "execute_result"
    },
    {
     "data": {
      "image/png": "[encoded data removed]",
      "text/plain": [
       "<Figure size 432x288 with 2 Axes>"
      ]
     },
     "metadata": {
      "needs_background": "light"
     },
     "output_type": "display_data"
    }
   ],
   "source": [
    "# Dropping columns (Added to pipeline as well)\n",
    "df.drop([\"euribor3m\", \"emp.var.rate\"], axis=1, inplace=True)\n",
    "temp.drop([\"euribor3m\", \"emp.var.rate\"], axis=1, inplace=True)\n",
    "\n",
    "# Correlation\n",
    "cor_mat = temp.corr().apply(lambda x: abs(x))\n",
    "sns.heatmap(cor_mat, vmax=.8, square=True)\n"
   ]
  },
  {
   "cell_type": "markdown",
   "metadata": {},
   "source": [
    "That's much better, no attributes are very highly correlated with each other.\n",
    "\n",
    "Now I'll check some categorical variables that could easily be numeric variables."
   ]
  },
  {
   "cell_type": "code",
   "execution_count": 88,
   "metadata": {},
   "outputs": [
    {
     "data": {
      "text/html": [
       "<div>\n",
       "<style scoped>\n",
       "    .dataframe tbody tr th:only-of-type {\n",
       "        vertical-align: middle;\n",
       "    }\n",
       "\n",
       "    .dataframe tbody tr th {\n",
       "        vertical-align: top;\n",
       "    }\n",
       "\n",
       "    .dataframe thead th {\n",
       "        text-align: right;\n",
       "    }\n",
       "</style>\n",
       "<table border=\"1\" class=\"dataframe\">\n",
       "  <thead>\n",
       "    <tr style=\"text-align: right;\">\n",
       "      <th></th>\n",
       "      <th>age</th>\n",
       "      <th>job</th>\n",
       "      <th>marital</th>\n",
       "      <th>education</th>\n",
       "      <th>default</th>\n",
       "      <th>housing</th>\n",
       "      <th>loan</th>\n",
       "      <th>contact</th>\n",
       "      <th>month</th>\n",
       "      <th>day_of_week</th>\n",
       "      <th>campaign</th>\n",
       "      <th>pdays</th>\n",
       "      <th>previous</th>\n",
       "      <th>poutcome</th>\n",
       "      <th>cons.price.idx</th>\n",
       "      <th>cons.conf.idx</th>\n",
       "      <th>nr.employed</th>\n",
       "      <th>y</th>\n",
       "    </tr>\n",
       "  </thead>\n",
       "  <tbody>\n",
       "    <tr>\n",
       "      <td>0</td>\n",
       "      <td>41</td>\n",
       "      <td>admin.</td>\n",
       "      <td>married</td>\n",
       "      <td>university.degree</td>\n",
       "      <td>no</td>\n",
       "      <td>yes</td>\n",
       "      <td>no</td>\n",
       "      <td>cellular</td>\n",
       "      <td>dec</td>\n",
       "      <td>thu</td>\n",
       "      <td>1</td>\n",
       "      <td>999</td>\n",
       "      <td>0</td>\n",
       "      <td>nonexistent</td>\n",
       "      <td>92.713</td>\n",
       "      <td>-33.0</td>\n",
       "      <td>5023.5</td>\n",
       "      <td>1</td>\n",
       "    </tr>\n",
       "    <tr>\n",
       "      <td>1</td>\n",
       "      <td>71</td>\n",
       "      <td>retired</td>\n",
       "      <td>married</td>\n",
       "      <td>high.school</td>\n",
       "      <td>no</td>\n",
       "      <td>yes</td>\n",
       "      <td>no</td>\n",
       "      <td>cellular</td>\n",
       "      <td>apr</td>\n",
       "      <td>wed</td>\n",
       "      <td>2</td>\n",
       "      <td>999</td>\n",
       "      <td>0</td>\n",
       "      <td>nonexistent</td>\n",
       "      <td>93.075</td>\n",
       "      <td>-47.1</td>\n",
       "      <td>5099.1</td>\n",
       "      <td>0</td>\n",
       "    </tr>\n",
       "    <tr>\n",
       "      <td>2</td>\n",
       "      <td>52</td>\n",
       "      <td>blue-collar</td>\n",
       "      <td>divorced</td>\n",
       "      <td>high.school</td>\n",
       "      <td>no</td>\n",
       "      <td>no</td>\n",
       "      <td>no</td>\n",
       "      <td>telephone</td>\n",
       "      <td>jun</td>\n",
       "      <td>wed</td>\n",
       "      <td>2</td>\n",
       "      <td>999</td>\n",
       "      <td>0</td>\n",
       "      <td>nonexistent</td>\n",
       "      <td>94.465</td>\n",
       "      <td>-41.8</td>\n",
       "      <td>5228.1</td>\n",
       "      <td>0</td>\n",
       "    </tr>\n",
       "    <tr>\n",
       "      <td>3</td>\n",
       "      <td>49</td>\n",
       "      <td>technician</td>\n",
       "      <td>single</td>\n",
       "      <td>university.degree</td>\n",
       "      <td>unknown</td>\n",
       "      <td>yes</td>\n",
       "      <td>no</td>\n",
       "      <td>telephone</td>\n",
       "      <td>may</td>\n",
       "      <td>wed</td>\n",
       "      <td>1</td>\n",
       "      <td>999</td>\n",
       "      <td>0</td>\n",
       "      <td>nonexistent</td>\n",
       "      <td>93.994</td>\n",
       "      <td>-36.4</td>\n",
       "      <td>5191.0</td>\n",
       "      <td>0</td>\n",
       "    </tr>\n",
       "    <tr>\n",
       "      <td>4</td>\n",
       "      <td>22</td>\n",
       "      <td>admin.</td>\n",
       "      <td>single</td>\n",
       "      <td>university.degree</td>\n",
       "      <td>no</td>\n",
       "      <td>yes</td>\n",
       "      <td>no</td>\n",
       "      <td>cellular</td>\n",
       "      <td>sep</td>\n",
       "      <td>mon</td>\n",
       "      <td>2</td>\n",
       "      <td>999</td>\n",
       "      <td>3</td>\n",
       "      <td>failure</td>\n",
       "      <td>94.199</td>\n",
       "      <td>-37.5</td>\n",
       "      <td>4963.6</td>\n",
       "      <td>1</td>\n",
       "    </tr>\n",
       "  </tbody>\n",
       "</table>\n",
       "</div>"
      ],
      "text/plain": [
       "   age          job   marital          education  default housing loan  \\\n",
       "0   41       admin.   married  university.degree       no     yes   no   \n",
       "1   71      retired   married        high.school       no     yes   no   \n",
       "2   52  blue-collar  divorced        high.school       no      no   no   \n",
       "3   49   technician    single  university.degree  unknown     yes   no   \n",
       "4   22       admin.    single  university.degree       no     yes   no   \n",
       "\n",
       "     contact month day_of_week  campaign  pdays  previous     poutcome  \\\n",
       "0   cellular   dec         thu         1    999         0  nonexistent   \n",
       "1   cellular   apr         wed         2    999         0  nonexistent   \n",
       "2  telephone   jun         wed         2    999         0  nonexistent   \n",
       "3  telephone   may         wed         1    999         0  nonexistent   \n",
       "4   cellular   sep         mon         2    999         3      failure   \n",
       "\n",
       "   cons.price.idx  cons.conf.idx  nr.employed  y  \n",
       "0          92.713          -33.0       5023.5  1  \n",
       "1          93.075          -47.1       5099.1  0  \n",
       "2          94.465          -41.8       5228.1  0  \n",
       "3          93.994          -36.4       5191.0  0  \n",
       "4          94.199          -37.5       4963.6  1  "
      ]
     },
     "execution_count": 88,
     "metadata": {},
     "output_type": "execute_result"
    }
   ],
   "source": [
    "df.head()"
   ]
  },
  {
   "cell_type": "code",
   "execution_count": 89,
   "metadata": {},
   "outputs": [],
   "source": [
    "def get_expected_bank_balance_by_age(age):\n",
    "    balance = 0\n",
    "    if age < 35:\n",
    "        balance = 4000\n",
    "    elif age <= 44:\n",
    "        balance = 6000\n",
    "    elif age <= 54:\n",
    "        balance = 9000\n",
    "    elif age <= 64:\n",
    "        balance = 10000\n",
    "    elif age <= 74:\n",
    "        balance = 16000\n",
    "    else:\n",
    "        balance = 12000\n",
    "    return balance\n",
    "\n",
    "def get_education_level(education):\n",
    "    education_level = 0\n",
    "    if education == \"illiterate\":\n",
    "        education_level = 0\n",
    "    elif education == \"basic.4y\":\n",
    "        education_level = 1\n",
    "    elif education == \"basic.6y\":\n",
    "        education_level = 2   \n",
    "    elif education == \"basic.9y\":\n",
    "        education_level = 3\n",
    "    elif education == \"high.school\":\n",
    "        education_level = 4\n",
    "    elif education == \"professional.course\":\n",
    "        education_level = 6      \n",
    "    elif education == \"university.degree\":\n",
    "        education_level = 8\n",
    "    else:\n",
    "        education_level = 4\n",
    "    return education_level\n",
    "\n",
    "def get_expected_income(job, age):\n",
    "    beginner_income = 0\n",
    "    expert_income = 0\n",
    "    income = 0\n",
    "    if job == 'admin.':\n",
    "        beginner_income = 32500\n",
    "        expert_income = 64000\n",
    "    elif job == 'blue-collar':\n",
    "        beginner_income = 22000\n",
    "        expert_income = 50000\n",
    "    elif job == 'technician':\n",
    "        beginner_income = 25000\n",
    "        expert_income = 55000   \n",
    "    elif job == 'services':\n",
    "        beginner_income = 34000\n",
    "        expert_income = 55000   \n",
    "        \n",
    "    elif job == 'management':\n",
    "        beginner_income = 45000\n",
    "        expert_income = 122000   \n",
    "    elif job == 'retired':\n",
    "        beginner_income = 10000\n",
    "        expert_income = 10000 \n",
    "    elif job == 'entrepreneur':\n",
    "        beginner_income = 25000\n",
    "        expert_income = 50000 \n",
    "    elif job == 'self-employed':\n",
    "        beginner_income = 25000\n",
    "        expert_income = 50000   \n",
    "    elif job == 'housemaid':\n",
    "        beginner_income = 19000\n",
    "        expert_income = 30000         \n",
    "    elif job == 'unemployed':\n",
    "        beginner_income = 0\n",
    "        expert_income = 0           \n",
    "    elif job == 'student':\n",
    "        beginner_income = 0\n",
    "        expert_income = 0           \n",
    "    elif job == 'unknown':\n",
    "        beginner_income = 25000\n",
    "        expert_income = 35000\n",
    "    \n",
    "    income_range = expert_income - beginner_income\n",
    "    \n",
    "    if age <= 19:\n",
    "        income = beginner_income\n",
    "    elif age <= 24:\n",
    "        income = beginner_income + 0.22 * income_range\n",
    "    elif age <= 34:\n",
    "        income = beginner_income + 0.65 * income_range\n",
    "    elif age <= 44:\n",
    "        income = beginner_income + 0.97 * income_range\n",
    "    elif age <= 54:\n",
    "        income = beginner_income + 1.00 * income_range\n",
    "    elif age <= 64:\n",
    "        income = beginner_income + 0.99 * income_range\n",
    "    else:\n",
    "        income = beginner_income + 0.88 * income_range        \n",
    "    return income\n",
    "        \n",
    "\n",
    "def get_expected_bank_balance_by_income(income):\n",
    "    balance = 0\n",
    "    if income < 25000:\n",
    "        balance = 2500\n",
    "    elif income < 45000:\n",
    "        balance = 3500\n",
    "    elif income < 70000:\n",
    "        balance = 5000\n",
    "    elif income < 115000:\n",
    "        balance = 8000\n",
    "    else:\n",
    "        balance = 12000\n",
    "    return balance\n",
    "       "
   ]
  },
  {
   "cell_type": "code",
   "execution_count": 90,
   "metadata": {},
   "outputs": [],
   "source": [
    "df['education_level'] = df['education'].apply(get_education_level)\n",
    "df['expected_income'] = df[['job', 'age']].apply(lambda x: get_expected_income(*x), axis=1)\n",
    "df['expected_bank_balance_by_income'] = df['expected_income'].apply(get_expected_bank_balance_by_income)\n",
    "df['expected_bank_balance_by_age'] = df['age'].apply(get_expected_bank_balance_by_age)\n",
    "df['age_gte_61'] = df['age'].apply(lambda x: 1 if x >= 61 else 0)\n",
    "df['age_lte_23'] = df['age'].apply(lambda x: 1 if x <= 23 else 0)\n",
    "df.drop(['expected_bank_balance_by_income'], axis=1, inplace=True)\n"
   ]
  },
  {
   "cell_type": "code",
   "execution_count": 91,
   "metadata": {},
   "outputs": [
    {
     "data": {
      "text/plain": [
       "y                                  1.000000\n",
       "nr.employed                        0.352043\n",
       "pdays                              0.324359\n",
       "previous                           0.231272\n",
       "age_gte_61                         0.161578\n",
       "cons.price.idx                     0.139848\n",
       "age_lte_23                         0.071815\n",
       "campaign                           0.064490\n",
       "expected_income                    0.062166\n",
       "cons.conf.idx                      0.055594\n",
       "education_level                    0.050789\n",
       "expected_bank_balance_by_income    0.041680\n",
       "expected_bank_balance_by_age       0.032872\n",
       "age                                0.027948\n",
       "Name: y, dtype: float64"
      ]
     },
     "execution_count": 91,
     "metadata": {},
     "output_type": "execute_result"
    },
    {
     "data": {
      "image/png": "[encoded data removed]",
      "text/plain": [
       "<Figure size 432x288 with 2 Axes>"
      ]
     },
     "metadata": {
      "needs_background": "light"
     },
     "output_type": "display_data"
    }
   ],
   "source": [
    "# Correlation\n",
    "cor_mat = df.corr().apply(lambda x: abs(x))\n",
    "sns.heatmap(cor_mat, vmax=.8, square=True)\n",
    "cor_mat['y'].sort_values(ascending=False)"
   ]
  },
  {
   "cell_type": "markdown",
   "metadata": {},
   "source": [
    "Dummies for all category variables:"
   ]
  },
  {
   "cell_type": "code",
   "execution_count": 92,
   "metadata": {},
   "outputs": [],
   "source": [
    "df = pd.concat([df.select_dtypes(exclude=\"O\"), \\\n",
    "           pd.get_dummies(df.select_dtypes(include=\"O\"), drop_first=True)], axis=1)\n"
   ]
  },
  {
   "cell_type": "code",
   "execution_count": 93,
   "metadata": {},
   "outputs": [
    {
     "data": {
      "text/plain": [
       "<matplotlib.axes._subplots.AxesSubplot at 0x1307e4390>"
      ]
     },
     "execution_count": 93,
     "metadata": {},
     "output_type": "execute_result"
    },
    {
     "data": {
      "image/png": "[encoded data removed]",
      "text/plain": [
       "<Figure size 1440x1152 with 2 Axes>"
      ]
     },
     "metadata": {
      "needs_background": "light"
     },
     "output_type": "display_data"
    }
   ],
   "source": [
    "# Correlation\n",
    "cor_mat = df.corr().apply(lambda x: abs(x))\n",
    "plt.figure(figsize=(20, 16))\n",
    "sns.heatmap(cor_mat, vmax=.8, square=True)\n"
   ]
  },
  {
   "cell_type": "code",
   "execution_count": 94,
   "metadata": {},
   "outputs": [],
   "source": [
    "def get_loan_unknown_and_housing_unknown(loan_unknown, housing_unknown):\n",
    "    return 1 if loan_unknown == 1 and housing_unknown == 1 else 0\n",
    "\n",
    "df[\"loan_unknown_and_housing_unknown\"] = \\\n",
    "    df[[\"loan_unknown\", \"housing_unknown\"]].\\\n",
    "        apply(lambda x: get_loan_unknown_and_housing_unknown(*x), axis=1)\n",
    "df.drop([\"education_university.degree\", \"loan_unknown\", \"housing_unknown\"], axis=1, inplace=True)"
   ]
  },
  {
   "cell_type": "code",
   "execution_count": 95,
   "metadata": {},
   "outputs": [
    {
     "data": {
      "text/plain": [
       "y                                   1.000000\n",
       "nr.employed                         0.352043\n",
       "pdays                               0.324359\n",
       "poutcome_success                    0.315965\n",
       "previous                            0.231272\n",
       "poutcome_nonexistent                0.195915\n",
       "age_gte_61                          0.161578\n",
       "month_mar                           0.150043\n",
       "contact_telephone                   0.145965\n",
       "cons.price.idx                      0.139848\n",
       "month_oct                           0.134567\n",
       "month_sep                           0.119295\n",
       "month_may                           0.105402\n",
       "default_unknown                     0.098029\n",
       "job_student                         0.097683\n",
       "job_retired                         0.087868\n",
       "month_dec                           0.081182\n",
       "job_blue-collar                     0.073809\n",
       "age_lte_23                          0.071815\n",
       "campaign                            0.064490\n",
       "expected_income                     0.062166\n",
       "cons.conf.idx                       0.055594\n",
       "marital_single                      0.054116\n",
       "education_level                     0.050789\n",
       "education_basic.9y                  0.042785\n",
       "expected_bank_balance_by_income     0.041680\n",
       "marital_married                     0.040930\n",
       "expected_bank_balance_by_age        0.032872\n",
       "job_services                        0.031988\n",
       "month_jul                           0.030447\n",
       "age                                 0.027948\n",
       "education_basic.6y                  0.022753\n",
       "education_unknown                   0.020553\n",
       "day_of_week_mon                     0.020176\n",
       "job_entrepreneur                    0.019633\n",
       "job_unemployed                      0.017474\n",
       "month_nov                           0.014455\n",
       "day_of_week_thu                     0.013084\n",
       "housing_yes                         0.012083\n",
       "day_of_week_tue                     0.008680\n",
       "job_housemaid                       0.008678\n",
       "month_jun                           0.007725\n",
       "job_technician                      0.007665\n",
       "day_of_week_wed                     0.007633\n",
       "month_aug                           0.007221\n",
       "job_self-employed                   0.007039\n",
       "marital_unknown                     0.006639\n",
       "education_illiterate                0.005295\n",
       "education_high.school               0.005272\n",
       "loan_yes                            0.003949\n",
       "job_unknown                         0.002836\n",
       "default_yes                         0.002765\n",
       "loan_unknown_and_housing_unknown    0.001664\n",
       "education_professional.course       0.001413\n",
       "job_management                      0.000946\n",
       "Name: y, dtype: float64"
      ]
     },
     "execution_count": 95,
     "metadata": {},
     "output_type": "execute_result"
    }
   ],
   "source": [
    "cor_mat = df.corr().apply(lambda x: abs(x))\n",
    "cor_mat['y'].sort_values(ascending=False)"
   ]
  },
  {
   "cell_type": "markdown",
   "metadata": {},
   "source": [
    "## Feature Importance"
   ]
  },
  {
   "cell_type": "code",
   "execution_count": 96,
   "metadata": {},
   "outputs": [
    {
     "data": {
      "text/plain": [
       "False"
      ]
     },
     "execution_count": 96,
     "metadata": {},
     "output_type": "execute_result"
    }
   ],
   "source": [
    "np.isnan(train).any().any()"
   ]
  },
  {
   "cell_type": "code",
   "execution_count": 97,
   "metadata": {},
   "outputs": [],
   "source": [
    "from numpy.random import seed\n",
    "from pandas import read_csv\n",
    "import lightgbm as lgb\n",
    "from xgboost import XGBClassifier\n",
    "\n",
    "train = df.copy()\n",
    "train.fillna(0, inplace=True)\n",
    "\n",
    "X = train.drop([\"y\"], axis=1)\n",
    "y = train[[\"y\"]]\n",
    "\n",
    "clf = lgb.LGBMClassifier()\n",
    "clf = XGBClassifier()\n",
    "clf.fit(X, y)\n",
    "\n",
    "import shap\n",
    "shap_values = shap.TreeExplainer(clf).shap_values(X[0:10000])\n",
    "\n"
   ]
  },
  {
   "cell_type": "code",
   "execution_count": 98,
   "metadata": {},
   "outputs": [
    {
     "data": {
      "image/png": "[encoded data removed]",
      "text/plain": [
       "<Figure size 576x684 with 2 Axes>"
      ]
     },
     "metadata": {
      "needs_background": "light"
     },
     "output_type": "display_data"
    }
   ],
   "source": [
    "shap.summary_plot(shap_values, X[0:10000])"
   ]
  },
  {
   "cell_type": "code",
   "execution_count": 115,
   "metadata": {},
   "outputs": [
    {
     "data": {
      "text/html": [
       "['nr.employed', 'contact_telephone', 'cons.price.idx', 'pdays', 'cons.conf.idx', 'age', 'previous', 'campaign', 'day_of_week_mon', 'default_unknown', 'month_may', 'poutcome_success', 'expected_income', 'day_of_week_wed', 'month_oct', 'job_blue-collar', 'month_mar', 'education_level', 'month_nov', 'month_jul', 'day_of_week_thu', 'month_aug', 'marital_single', 'job_housemaid', 'month_dec', 'education_basic.9y', 'education_basic.6y', 'housing_yes', 'day_of_week_tue', 'job_unknown', 'job_student', 'marital_married', 'education_high.school', 'month_jun', 'marital_unknown']"
      ],
      "text/plain": [
       "['nr.employed',\n",
       " 'contact_telephone',\n",
       " 'cons.price.idx',\n",
       " 'pdays',\n",
       " 'cons.conf.idx',\n",
       " 'age',\n",
       " 'previous',\n",
       " 'campaign',\n",
       " 'day_of_week_mon',\n",
       " 'default_unknown',\n",
       " 'month_may',\n",
       " 'poutcome_success',\n",
       " 'expected_income',\n",
       " 'day_of_week_wed',\n",
       " 'month_oct',\n",
       " 'job_blue-collar',\n",
       " 'month_mar',\n",
       " 'education_level',\n",
       " 'month_nov',\n",
       " 'month_jul',\n",
       " 'day_of_week_thu',\n",
       " 'month_aug',\n",
       " 'marital_single',\n",
       " 'job_housemaid',\n",
       " 'month_dec',\n",
       " 'education_basic.9y',\n",
       " 'education_basic.6y',\n",
       " 'housing_yes',\n",
       " 'day_of_week_tue',\n",
       " 'job_unknown',\n",
       " 'job_student',\n",
       " 'marital_married',\n",
       " 'education_high.school',\n",
       " 'month_jun',\n",
       " 'marital_unknown']"
      ]
     },
     "execution_count": 115,
     "metadata": {},
     "output_type": "execute_result"
    }
   ],
   "source": [
    "import pandas as pd\n",
    "from numpy import cumsum\n",
    "sorted_feature_importance = pd.DataFrame(shap_values, columns=X.columns).abs().sum().sort_values(ascending=False)\n",
    "cumulative_sum = cumsum([y for (x,y) in sorted_feature_importance.reset_index().values])\n",
    "gt_999_importance = cumulative_sum / cumulative_sum[-1] > .999\n",
    "nth_feature = min([y for (x,y) in zip(gt_999_importance, zip(range(len(gt_999_importance)))) if x])[0]\n",
    "important_columns = sorted_feature_importance.iloc[0:nth_feature+1].index.values.tolist()\n",
    "important_columns"
   ]
  },
  {
   "cell_type": "code",
   "execution_count": 100,
   "metadata": {},
   "outputs": [
    {
     "data": {
      "text/plain": [
       "nr.employed                         5818.538574\n",
       "contact_telephone                   1161.381226\n",
       "cons.price.idx                       858.569641\n",
       "pdays                                829.206360\n",
       "cons.conf.idx                        810.915588\n",
       "age                                  643.173218\n",
       "previous                             640.639038\n",
       "campaign                             484.291656\n",
       "day_of_week_mon                      439.487091\n",
       "default_unknown                      326.589722\n",
       "month_may                            296.344666\n",
       "poutcome_success                     264.904846\n",
       "expected_income                      218.195679\n",
       "day_of_week_wed                      187.496506\n",
       "month_oct                            173.674042\n",
       "job_blue-collar                      151.846024\n",
       "month_mar                            143.894821\n",
       "education_level                      139.289825\n",
       "month_nov                             65.372238\n",
       "month_jul                             59.483299\n",
       "day_of_week_thu                       59.336651\n",
       "month_aug                             55.826927\n",
       "marital_single                        38.616348\n",
       "job_housemaid                         27.270449\n",
       "month_dec                             21.069115\n",
       "education_basic.9y                    18.920378\n",
       "education_basic.6y                    17.899866\n",
       "housing_yes                           12.618283\n",
       "day_of_week_tue                       11.311941\n",
       "job_unknown                           10.266411\n",
       "job_student                           10.096649\n",
       "marital_married                        9.852565\n",
       "education_high.school                  6.550178\n",
       "month_jun                              5.344773\n",
       "marital_unknown                        4.390692\n",
       "job_self-employed                      3.679979\n",
       "job_technician                         3.371524\n",
       "job_unemployed                         2.693683\n",
       "loan_yes                               1.619467\n",
       "poutcome_nonexistent                   0.000000\n",
       "month_sep                              0.000000\n",
       "default_yes                            0.000000\n",
       "education_unknown                      0.000000\n",
       "education_professional.course          0.000000\n",
       "education_illiterate                   0.000000\n",
       "expected_bank_balance_by_income        0.000000\n",
       "job_retired                            0.000000\n",
       "expected_bank_balance_by_age           0.000000\n",
       "age_gte_61                             0.000000\n",
       "age_lte_23                             0.000000\n",
       "job_entrepreneur                       0.000000\n",
       "job_services                           0.000000\n",
       "job_management                         0.000000\n",
       "loan_unknown_and_housing_unknown       0.000000\n",
       "dtype: float32"
      ]
     },
     "execution_count": 100,
     "metadata": {},
     "output_type": "execute_result"
    }
   ],
   "source": [
    "sorted_feature_importance"
   ]
  },
  {
   "cell_type": "code",
   "execution_count": null,
   "metadata": {},
   "outputs": [],
   "source": [
    "# xgboost says drop these:\n",
    "*job_self-employed                      3.679979\n",
    "*job_technician                         3.371524\n",
    "*job_unemployed                         2.693683\n",
    "*job_retired                            0.000000\n",
    "*job_entrepreneur                       0.000000\n",
    "*job_services                           0.000000\n",
    "*job_management                         0.000000\n",
    "\n",
    "*education_unknown                      0.000000\n",
    "*education_professional.course          0.000000\n",
    "*education_illiterate                   0.000000\n",
    "\n",
    "*loan_yes                               1.619467\n",
    "*poutcome_nonexistent                   0.000000\n",
    "*month_sep                              0.000000\n",
    "*default_yes                            0.000000\n",
    "\n",
    "\n"
   ]
  },
  {
   "cell_type": "code",
   "execution_count": 127,
   "metadata": {},
   "outputs": [],
   "source": [
    "X = df.select_dtypes(\"O\").head().values"
   ]
  },
  {
   "cell_type": "code",
   "execution_count": 132,
   "metadata": {},
   "outputs": [
    {
     "data": {
      "text/plain": [
       "'university.degree'"
      ]
     },
     "execution_count": 132,
     "metadata": {},
     "output_type": "execute_result"
    }
   ],
   "source": [
    "X[0,2]"
   ]
  },
  {
   "cell_type": "code",
   "execution_count": 117,
   "metadata": {},
   "outputs": [
    {
     "data": {
      "text/plain": [
       "age                              41\n",
       "job                          admin.\n",
       "marital                     married\n",
       "education         university.degree\n",
       "default                          no\n",
       "housing                         yes\n",
       "loan                             no\n",
       "contact                    cellular\n",
       "month                           dec\n",
       "day_of_week                     thu\n",
       "campaign                          1\n",
       "pdays                           999\n",
       "previous                          0\n",
       "poutcome                nonexistent\n",
       "emp.var.rate                     -3\n",
       "cons.price.idx               92.713\n",
       "cons.conf.idx                   -33\n",
       "euribor3m                     0.707\n",
       "nr.employed                  5023.5\n",
       "y                                 1\n",
       "Name: 0, dtype: object"
      ]
     },
     "execution_count": 117,
     "metadata": {},
     "output_type": "execute_result"
    }
   ],
   "source": [
    "df.iloc[0]"
   ]
  },
  {
   "cell_type": "code",
   "execution_count": 120,
   "metadata": {},
   "outputs": [
    {
     "data": {
      "text/html": [
       "<div>\n",
       "<style scoped>\n",
       "    .dataframe tbody tr th:only-of-type {\n",
       "        vertical-align: middle;\n",
       "    }\n",
       "\n",
       "    .dataframe tbody tr th {\n",
       "        vertical-align: top;\n",
       "    }\n",
       "\n",
       "    .dataframe thead th {\n",
       "        text-align: right;\n",
       "    }\n",
       "</style>\n",
       "<table border=\"1\" class=\"dataframe\">\n",
       "  <thead>\n",
       "    <tr style=\"text-align: right;\">\n",
       "      <th></th>\n",
       "      <th>job</th>\n",
       "      <th>marital</th>\n",
       "      <th>education</th>\n",
       "      <th>default</th>\n",
       "      <th>housing</th>\n",
       "      <th>loan</th>\n",
       "      <th>contact</th>\n",
       "      <th>month</th>\n",
       "      <th>day_of_week</th>\n",
       "      <th>poutcome</th>\n",
       "    </tr>\n",
       "  </thead>\n",
       "  <tbody>\n",
       "    <tr>\n",
       "      <td>0</td>\n",
       "      <td>admin.</td>\n",
       "      <td>married</td>\n",
       "      <td>university.degree</td>\n",
       "      <td>no</td>\n",
       "      <td>yes</td>\n",
       "      <td>no</td>\n",
       "      <td>cellular</td>\n",
       "      <td>dec</td>\n",
       "      <td>thu</td>\n",
       "      <td>nonexistent</td>\n",
       "    </tr>\n",
       "    <tr>\n",
       "      <td>1</td>\n",
       "      <td>retired</td>\n",
       "      <td>married</td>\n",
       "      <td>high.school</td>\n",
       "      <td>no</td>\n",
       "      <td>yes</td>\n",
       "      <td>no</td>\n",
       "      <td>cellular</td>\n",
       "      <td>apr</td>\n",
       "      <td>wed</td>\n",
       "      <td>nonexistent</td>\n",
       "    </tr>\n",
       "    <tr>\n",
       "      <td>2</td>\n",
       "      <td>blue-collar</td>\n",
       "      <td>divorced</td>\n",
       "      <td>high.school</td>\n",
       "      <td>no</td>\n",
       "      <td>no</td>\n",
       "      <td>no</td>\n",
       "      <td>telephone</td>\n",
       "      <td>jun</td>\n",
       "      <td>wed</td>\n",
       "      <td>nonexistent</td>\n",
       "    </tr>\n",
       "    <tr>\n",
       "      <td>3</td>\n",
       "      <td>technician</td>\n",
       "      <td>single</td>\n",
       "      <td>university.degree</td>\n",
       "      <td>unknown</td>\n",
       "      <td>yes</td>\n",
       "      <td>no</td>\n",
       "      <td>telephone</td>\n",
       "      <td>may</td>\n",
       "      <td>wed</td>\n",
       "      <td>nonexistent</td>\n",
       "    </tr>\n",
       "    <tr>\n",
       "      <td>4</td>\n",
       "      <td>admin.</td>\n",
       "      <td>single</td>\n",
       "      <td>university.degree</td>\n",
       "      <td>no</td>\n",
       "      <td>yes</td>\n",
       "      <td>no</td>\n",
       "      <td>cellular</td>\n",
       "      <td>sep</td>\n",
       "      <td>mon</td>\n",
       "      <td>failure</td>\n",
       "    </tr>\n",
       "  </tbody>\n",
       "</table>\n",
       "</div>"
      ],
      "text/plain": [
       "           job   marital          education  default housing loan    contact  \\\n",
       "0       admin.   married  university.degree       no     yes   no   cellular   \n",
       "1      retired   married        high.school       no     yes   no   cellular   \n",
       "2  blue-collar  divorced        high.school       no      no   no  telephone   \n",
       "3   technician    single  university.degree  unknown     yes   no  telephone   \n",
       "4       admin.    single  university.degree       no     yes   no   cellular   \n",
       "\n",
       "  month day_of_week     poutcome  \n",
       "0   dec         thu  nonexistent  \n",
       "1   apr         wed  nonexistent  \n",
       "2   jun         wed  nonexistent  \n",
       "3   may         wed  nonexistent  \n",
       "4   sep         mon      failure  "
      ]
     },
     "execution_count": 120,
     "metadata": {},
     "output_type": "execute_result"
    }
   ],
   "source": [
    "df.select_dtypes(\"O\").head()"
   ]
  },
  {
   "cell_type": "markdown",
   "metadata": {},
   "source": [
    "## Scratch Work"
   ]
  },
  {
   "cell_type": "code",
   "execution_count": 20,
   "metadata": {},
   "outputs": [],
   "source": [
    "from pandas import read_csv\n",
    "train = read_csv(\"../data/interim/train.csv\")\n",
    "test = read_csv(\"../data/interim/test.csv\")\n",
    "\n",
    "num_attribs = train.select_dtypes(exclude=\"O\").drop([\"y\"], axis=1)\n",
    "cat_attribs = train.select_dtypes(include=\"O\")"
   ]
  },
  {
   "cell_type": "code",
   "execution_count": 21,
   "metadata": {},
   "outputs": [
    {
     "data": {
      "text/html": [
       "<div>\n",
       "<style scoped>\n",
       "    .dataframe tbody tr th:only-of-type {\n",
       "        vertical-align: middle;\n",
       "    }\n",
       "\n",
       "    .dataframe tbody tr th {\n",
       "        vertical-align: top;\n",
       "    }\n",
       "\n",
       "    .dataframe thead th {\n",
       "        text-align: right;\n",
       "    }\n",
       "</style>\n",
       "<table border=\"1\" class=\"dataframe\">\n",
       "  <thead>\n",
       "    <tr style=\"text-align: right;\">\n",
       "      <th></th>\n",
       "      <th>age</th>\n",
       "      <th>campaign</th>\n",
       "      <th>pdays</th>\n",
       "      <th>previous</th>\n",
       "      <th>emp.var.rate</th>\n",
       "      <th>cons.price.idx</th>\n",
       "      <th>cons.conf.idx</th>\n",
       "      <th>euribor3m</th>\n",
       "      <th>nr.employed</th>\n",
       "    </tr>\n",
       "  </thead>\n",
       "  <tbody>\n",
       "    <tr>\n",
       "      <td>0</td>\n",
       "      <td>41</td>\n",
       "      <td>1</td>\n",
       "      <td>999</td>\n",
       "      <td>0</td>\n",
       "      <td>-3.0</td>\n",
       "      <td>92.713</td>\n",
       "      <td>-33.0</td>\n",
       "      <td>0.707</td>\n",
       "      <td>5023.5</td>\n",
       "    </tr>\n",
       "    <tr>\n",
       "      <td>1</td>\n",
       "      <td>71</td>\n",
       "      <td>2</td>\n",
       "      <td>999</td>\n",
       "      <td>0</td>\n",
       "      <td>-1.8</td>\n",
       "      <td>93.075</td>\n",
       "      <td>-47.1</td>\n",
       "      <td>1.415</td>\n",
       "      <td>5099.1</td>\n",
       "    </tr>\n",
       "    <tr>\n",
       "      <td>2</td>\n",
       "      <td>52</td>\n",
       "      <td>2</td>\n",
       "      <td>999</td>\n",
       "      <td>0</td>\n",
       "      <td>1.4</td>\n",
       "      <td>94.465</td>\n",
       "      <td>-41.8</td>\n",
       "      <td>4.959</td>\n",
       "      <td>5228.1</td>\n",
       "    </tr>\n",
       "    <tr>\n",
       "      <td>3</td>\n",
       "      <td>49</td>\n",
       "      <td>1</td>\n",
       "      <td>999</td>\n",
       "      <td>0</td>\n",
       "      <td>1.1</td>\n",
       "      <td>93.994</td>\n",
       "      <td>-36.4</td>\n",
       "      <td>4.856</td>\n",
       "      <td>5191.0</td>\n",
       "    </tr>\n",
       "    <tr>\n",
       "      <td>4</td>\n",
       "      <td>22</td>\n",
       "      <td>2</td>\n",
       "      <td>999</td>\n",
       "      <td>3</td>\n",
       "      <td>-1.1</td>\n",
       "      <td>94.199</td>\n",
       "      <td>-37.5</td>\n",
       "      <td>0.882</td>\n",
       "      <td>4963.6</td>\n",
       "    </tr>\n",
       "    <tr>\n",
       "      <td>...</td>\n",
       "      <td>...</td>\n",
       "      <td>...</td>\n",
       "      <td>...</td>\n",
       "      <td>...</td>\n",
       "      <td>...</td>\n",
       "      <td>...</td>\n",
       "      <td>...</td>\n",
       "      <td>...</td>\n",
       "      <td>...</td>\n",
       "    </tr>\n",
       "    <tr>\n",
       "      <td>32935</td>\n",
       "      <td>52</td>\n",
       "      <td>2</td>\n",
       "      <td>999</td>\n",
       "      <td>0</td>\n",
       "      <td>1.4</td>\n",
       "      <td>94.465</td>\n",
       "      <td>-41.8</td>\n",
       "      <td>4.959</td>\n",
       "      <td>5228.1</td>\n",
       "    </tr>\n",
       "    <tr>\n",
       "      <td>32936</td>\n",
       "      <td>34</td>\n",
       "      <td>3</td>\n",
       "      <td>999</td>\n",
       "      <td>0</td>\n",
       "      <td>-0.1</td>\n",
       "      <td>93.200</td>\n",
       "      <td>-42.0</td>\n",
       "      <td>4.021</td>\n",
       "      <td>5195.8</td>\n",
       "    </tr>\n",
       "    <tr>\n",
       "      <td>32937</td>\n",
       "      <td>31</td>\n",
       "      <td>4</td>\n",
       "      <td>999</td>\n",
       "      <td>0</td>\n",
       "      <td>1.4</td>\n",
       "      <td>93.918</td>\n",
       "      <td>-42.7</td>\n",
       "      <td>4.961</td>\n",
       "      <td>5228.1</td>\n",
       "    </tr>\n",
       "    <tr>\n",
       "      <td>32938</td>\n",
       "      <td>38</td>\n",
       "      <td>1</td>\n",
       "      <td>999</td>\n",
       "      <td>1</td>\n",
       "      <td>-1.8</td>\n",
       "      <td>92.893</td>\n",
       "      <td>-46.2</td>\n",
       "      <td>1.344</td>\n",
       "      <td>5099.1</td>\n",
       "    </tr>\n",
       "    <tr>\n",
       "      <td>32939</td>\n",
       "      <td>26</td>\n",
       "      <td>5</td>\n",
       "      <td>999</td>\n",
       "      <td>0</td>\n",
       "      <td>1.4</td>\n",
       "      <td>94.465</td>\n",
       "      <td>-41.8</td>\n",
       "      <td>4.959</td>\n",
       "      <td>5228.1</td>\n",
       "    </tr>\n",
       "  </tbody>\n",
       "</table>\n",
       "<p>32940 rows × 9 columns</p>\n",
       "</div>"
      ],
      "text/plain": [
       "       age  campaign  pdays  previous  emp.var.rate  cons.price.idx  \\\n",
       "0       41         1    999         0          -3.0          92.713   \n",
       "1       71         2    999         0          -1.8          93.075   \n",
       "2       52         2    999         0           1.4          94.465   \n",
       "3       49         1    999         0           1.1          93.994   \n",
       "4       22         2    999         3          -1.1          94.199   \n",
       "...    ...       ...    ...       ...           ...             ...   \n",
       "32935   52         2    999         0           1.4          94.465   \n",
       "32936   34         3    999         0          -0.1          93.200   \n",
       "32937   31         4    999         0           1.4          93.918   \n",
       "32938   38         1    999         1          -1.8          92.893   \n",
       "32939   26         5    999         0           1.4          94.465   \n",
       "\n",
       "       cons.conf.idx  euribor3m  nr.employed  \n",
       "0              -33.0      0.707       5023.5  \n",
       "1              -47.1      1.415       5099.1  \n",
       "2              -41.8      4.959       5228.1  \n",
       "3              -36.4      4.856       5191.0  \n",
       "4              -37.5      0.882       4963.6  \n",
       "...              ...        ...          ...  \n",
       "32935          -41.8      4.959       5228.1  \n",
       "32936          -42.0      4.021       5195.8  \n",
       "32937          -42.7      4.961       5228.1  \n",
       "32938          -46.2      1.344       5099.1  \n",
       "32939          -41.8      4.959       5228.1  \n",
       "\n",
       "[32940 rows x 9 columns]"
      ]
     },
     "execution_count": 21,
     "metadata": {},
     "output_type": "execute_result"
    }
   ],
   "source": [
    "num_attribs"
   ]
  },
  {
   "cell_type": "code",
   "execution_count": 22,
   "metadata": {},
   "outputs": [
    {
     "data": {
      "text/plain": [
       "array([[ 10,  -1, -10],\n",
       "       [ 20,  -2, -20],\n",
       "       [ 30,  -3, -30],\n",
       "       [ 40,  -4, -40]])"
      ]
     },
     "execution_count": 22,
     "metadata": {},
     "output_type": "execute_result"
    }
   ],
   "source": [
    "import numpy as np\n",
    "import pandas as pd\n",
    "df = pd.DataFrame({'a':[1,2,3,4], 'b':[10,20,30,40], 'c':[100,200,300,400], 'd':[-1,-2,-3,-4], 'e':[-10,-20,-30,-40] })\n",
    "X = df.values\n",
    "X[:, (1,3,4)]\n"
   ]
  },
  {
   "cell_type": "code",
   "execution_count": 23,
   "metadata": {},
   "outputs": [
    {
     "data": {
      "text/plain": [
       "array([-1, -2, -3, -4])"
      ]
     },
     "execution_count": 23,
     "metadata": {},
     "output_type": "execute_result"
    }
   ],
   "source": [
    "X[:, ~1]"
   ]
  },
  {
   "cell_type": "code",
   "execution_count": 24,
   "metadata": {},
   "outputs": [
    {
     "data": {
      "text/plain": [
       "array([[ 10, -10],\n",
       "       [ 20, -20],\n",
       "       [ 30, -30],\n",
       "       [ 40, -40]])"
      ]
     },
     "execution_count": 24,
     "metadata": {},
     "output_type": "execute_result"
    }
   ],
   "source": [
    "np.c_[np.delete(X, [0,2,3], 1)]"
   ]
  },
  {
   "cell_type": "code",
   "execution_count": 25,
   "metadata": {},
   "outputs": [
    {
     "data": {
      "text/plain": [
       "array([[ 10, -10],\n",
       "       [ 20, -20],\n",
       "       [ 30, -30],\n",
       "       [ 40, -40]])"
      ]
     },
     "execution_count": 25,
     "metadata": {},
     "output_type": "execute_result"
    }
   ],
   "source": [
    "np.delete(X, [0,2,3], 1)"
   ]
  },
  {
   "cell_type": "code",
   "execution_count": null,
   "metadata": {},
   "outputs": [],
   "source": []
  },
  {
   "cell_type": "code",
   "execution_count": null,
   "metadata": {},
   "outputs": [],
   "source": []
  }
 ],
 "metadata": {
  "kernelspec": {
   "display_name": "bank_customer",
   "language": "python",
   "name": "bank_customer"
  },
  "language_info": {
   "codemirror_mode": {
    "name": "ipython",
    "version": 3
   },
   "file_extension": ".py",
   "mimetype": "text/x-python",
   "name": "python",
   "nbconvert_exporter": "python",
   "pygments_lexer": "ipython3",
   "version": "3.6.5"
  },
  "toc": {
   "base_numbering": 1,
   "nav_menu": {},
   "number_sections": true,
   "sideBar": true,
   "skip_h1_title": false,
   "title_cell": "Table of Contents",
   "title_sidebar": "Contents",
   "toc_cell": false,
   "toc_position": {},
   "toc_section_display": true,
   "toc_window_display": false
  }
 },
 "nbformat": 4,
 "nbformat_minor": 2
}
